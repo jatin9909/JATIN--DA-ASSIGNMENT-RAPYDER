{
 "cells": [
  {
   "cell_type": "code",
   "execution_count": 507,
   "id": "d6d220c5",
   "metadata": {},
   "outputs": [],
   "source": [
    "import pandas as pd\n",
    "import numpy as np\n",
    "import seaborn as sns\n",
    "import matplotlib.pyplot as plt"
   ]
  },
  {
   "cell_type": "code",
   "execution_count": 508,
   "id": "d26891d5",
   "metadata": {},
   "outputs": [],
   "source": [
    "import warnings                            \n",
    "warnings.filterwarnings(action=\"ignore\")"
   ]
  },
  {
   "cell_type": "code",
   "execution_count": 509,
   "id": "f088e318",
   "metadata": {
    "scrolled": true
   },
   "outputs": [
    {
     "data": {
      "text/html": [
       "<div>\n",
       "<style scoped>\n",
       "    .dataframe tbody tr th:only-of-type {\n",
       "        vertical-align: middle;\n",
       "    }\n",
       "\n",
       "    .dataframe tbody tr th {\n",
       "        vertical-align: top;\n",
       "    }\n",
       "\n",
       "    .dataframe thead th {\n",
       "        text-align: right;\n",
       "    }\n",
       "</style>\n",
       "<table border=\"1\" class=\"dataframe\">\n",
       "  <thead>\n",
       "    <tr style=\"text-align: right;\">\n",
       "      <th></th>\n",
       "      <th>title</th>\n",
       "      <th>rating</th>\n",
       "      <th>name</th>\n",
       "      <th>num_ratings</th>\n",
       "      <th>num_reviews</th>\n",
       "      <th>num_followers</th>\n",
       "      <th>synopsis</th>\n",
       "      <th>genre</th>\n",
       "    </tr>\n",
       "  </thead>\n",
       "  <tbody>\n",
       "    <tr>\n",
       "      <th>0</th>\n",
       "      <td>Sapiens: A Brief History of Humankind</td>\n",
       "      <td>4.39</td>\n",
       "      <td>Yuval Noah Harari</td>\n",
       "      <td>8,06,229</td>\n",
       "      <td>46,149</td>\n",
       "      <td>30.5k</td>\n",
       "      <td>100,000 years ago, at least six human species ...</td>\n",
       "      <td>history</td>\n",
       "    </tr>\n",
       "    <tr>\n",
       "      <th>1</th>\n",
       "      <td>Guns, Germs, and Steel: The Fates of Human Soc...</td>\n",
       "      <td>4.04</td>\n",
       "      <td>Jared Diamond</td>\n",
       "      <td>3,67,056</td>\n",
       "      <td>12,879</td>\n",
       "      <td>6,538</td>\n",
       "      <td>\"Diamond has written a book of remarkable scop...</td>\n",
       "      <td>history</td>\n",
       "    </tr>\n",
       "    <tr>\n",
       "      <th>2</th>\n",
       "      <td>A People's History of the United States</td>\n",
       "      <td>4.07</td>\n",
       "      <td>Howard Zinn</td>\n",
       "      <td>2,24,620</td>\n",
       "      <td>6,509</td>\n",
       "      <td>2,354</td>\n",
       "      <td>In the book, Zinn presented a different side o...</td>\n",
       "      <td>history</td>\n",
       "    </tr>\n",
       "    <tr>\n",
       "      <th>3</th>\n",
       "      <td>The Devil in the White City: Murder, Magic, an...</td>\n",
       "      <td>3.99</td>\n",
       "      <td>Erik Larson</td>\n",
       "      <td>6,13,157</td>\n",
       "      <td>36,644</td>\n",
       "      <td>64.2k</td>\n",
       "      <td>Author Erik Larson imbues the incredible event...</td>\n",
       "      <td>history</td>\n",
       "    </tr>\n",
       "    <tr>\n",
       "      <th>4</th>\n",
       "      <td>The Diary of a Young Girl</td>\n",
       "      <td>4.18</td>\n",
       "      <td>Anne Frank</td>\n",
       "      <td>33,13,033</td>\n",
       "      <td>35,591</td>\n",
       "      <td>4,621</td>\n",
       "      <td>Discovered in the attic in which she spent the...</td>\n",
       "      <td>history</td>\n",
       "    </tr>\n",
       "    <tr>\n",
       "      <th>...</th>\n",
       "      <td>...</td>\n",
       "      <td>...</td>\n",
       "      <td>...</td>\n",
       "      <td>...</td>\n",
       "      <td>...</td>\n",
       "      <td>...</td>\n",
       "      <td>...</td>\n",
       "      <td>...</td>\n",
       "    </tr>\n",
       "    <tr>\n",
       "      <th>1534</th>\n",
       "      <td>Hounded</td>\n",
       "      <td>4.09</td>\n",
       "      <td>Kevin Hearne</td>\n",
       "      <td>83,827</td>\n",
       "      <td>7,203</td>\n",
       "      <td>11,905</td>\n",
       "      <td>Atticus O’Sullivan, last of the Druids, lives ...</td>\n",
       "      <td>fantasy</td>\n",
       "    </tr>\n",
       "    <tr>\n",
       "      <th>1535</th>\n",
       "      <td>Charlie and the Chocolate Factory</td>\n",
       "      <td>4.15</td>\n",
       "      <td>Roald Dahl</td>\n",
       "      <td>7,75,001</td>\n",
       "      <td>14,252</td>\n",
       "      <td>22,897</td>\n",
       "      <td>Charlie Bucket's wonderful adventure begins wh...</td>\n",
       "      <td>fantasy</td>\n",
       "    </tr>\n",
       "    <tr>\n",
       "      <th>1536</th>\n",
       "      <td>Red Rising</td>\n",
       "      <td>4.25</td>\n",
       "      <td>Pierce Brown</td>\n",
       "      <td>3,10,138</td>\n",
       "      <td>30,388</td>\n",
       "      <td>30,510</td>\n",
       "      <td>\"I live for the dream that my children will be...</td>\n",
       "      <td>fantasy</td>\n",
       "    </tr>\n",
       "    <tr>\n",
       "      <th>1537</th>\n",
       "      <td>Frostbite</td>\n",
       "      <td>4.26</td>\n",
       "      <td>Richelle Mead</td>\n",
       "      <td>3,37,538</td>\n",
       "      <td>12,435</td>\n",
       "      <td>66,448</td>\n",
       "      <td>Rose loves Dimitri, Dimitri might love Tasha, ...</td>\n",
       "      <td>fantasy</td>\n",
       "    </tr>\n",
       "    <tr>\n",
       "      <th>1538</th>\n",
       "      <td>Radiance</td>\n",
       "      <td>4.03</td>\n",
       "      <td>Grace Draven</td>\n",
       "      <td>50,102</td>\n",
       "      <td>5,550</td>\n",
       "      <td>6,090</td>\n",
       "      <td>The Prince of no value\\nBrishen Khaskem, princ...</td>\n",
       "      <td>fantasy</td>\n",
       "    </tr>\n",
       "  </tbody>\n",
       "</table>\n",
       "<p>1539 rows × 8 columns</p>\n",
       "</div>"
      ],
      "text/plain": [
       "                                                  title  rating  \\\n",
       "0                 Sapiens: A Brief History of Humankind    4.39   \n",
       "1     Guns, Germs, and Steel: The Fates of Human Soc...    4.04   \n",
       "2               A People's History of the United States    4.07   \n",
       "3     The Devil in the White City: Murder, Magic, an...    3.99   \n",
       "4                             The Diary of a Young Girl    4.18   \n",
       "...                                                 ...     ...   \n",
       "1534                                            Hounded    4.09   \n",
       "1535                  Charlie and the Chocolate Factory    4.15   \n",
       "1536                                         Red Rising    4.25   \n",
       "1537                                          Frostbite    4.26   \n",
       "1538                                           Radiance    4.03   \n",
       "\n",
       "                   name num_ratings num_reviews num_followers  \\\n",
       "0     Yuval Noah Harari    8,06,229      46,149         30.5k   \n",
       "1         Jared Diamond    3,67,056      12,879         6,538   \n",
       "2           Howard Zinn    2,24,620       6,509         2,354   \n",
       "3           Erik Larson    6,13,157      36,644         64.2k   \n",
       "4            Anne Frank   33,13,033      35,591         4,621   \n",
       "...                 ...         ...         ...           ...   \n",
       "1534       Kevin Hearne      83,827       7,203        11,905   \n",
       "1535         Roald Dahl    7,75,001      14,252        22,897   \n",
       "1536       Pierce Brown    3,10,138      30,388        30,510   \n",
       "1537      Richelle Mead    3,37,538      12,435        66,448   \n",
       "1538       Grace Draven      50,102       5,550         6,090   \n",
       "\n",
       "                                               synopsis    genre  \n",
       "0     100,000 years ago, at least six human species ...  history  \n",
       "1     \"Diamond has written a book of remarkable scop...  history  \n",
       "2     In the book, Zinn presented a different side o...  history  \n",
       "3     Author Erik Larson imbues the incredible event...  history  \n",
       "4     Discovered in the attic in which she spent the...  history  \n",
       "...                                                 ...      ...  \n",
       "1534  Atticus O’Sullivan, last of the Druids, lives ...  fantasy  \n",
       "1535  Charlie Bucket's wonderful adventure begins wh...  fantasy  \n",
       "1536  \"I live for the dream that my children will be...  fantasy  \n",
       "1537  Rose loves Dimitri, Dimitri might love Tasha, ...  fantasy  \n",
       "1538  The Prince of no value\\nBrishen Khaskem, princ...  fantasy  \n",
       "\n",
       "[1539 rows x 8 columns]"
      ]
     },
     "execution_count": 509,
     "metadata": {},
     "output_type": "execute_result"
    }
   ],
   "source": [
    "df = pd.read_csv('DA-AI-ML-interview-assignment-Data.csv', index_col=0)\n",
    "df"
   ]
  },
  {
   "cell_type": "markdown",
   "id": "bf410db5",
   "metadata": {},
   "source": [
    "# Data Analysis"
   ]
  },
  {
   "cell_type": "code",
   "execution_count": 510,
   "id": "05e477c7",
   "metadata": {},
   "outputs": [
    {
     "data": {
      "text/plain": [
       "title            0\n",
       "rating           0\n",
       "name             0\n",
       "num_ratings      0\n",
       "num_reviews      0\n",
       "num_followers    0\n",
       "synopsis         0\n",
       "genre            0\n",
       "dtype: int64"
      ]
     },
     "execution_count": 510,
     "metadata": {},
     "output_type": "execute_result"
    }
   ],
   "source": [
    "df.isna().sum()"
   ]
  },
  {
   "cell_type": "code",
   "execution_count": 511,
   "id": "cb071b57",
   "metadata": {},
   "outputs": [
    {
     "name": "stdout",
     "output_type": "stream",
     "text": [
      "<class 'pandas.core.frame.DataFrame'>\n",
      "Int64Index: 1539 entries, 0 to 1538\n",
      "Data columns (total 8 columns):\n",
      " #   Column         Non-Null Count  Dtype  \n",
      "---  ------         --------------  -----  \n",
      " 0   title          1539 non-null   object \n",
      " 1   rating         1539 non-null   float64\n",
      " 2   name           1539 non-null   object \n",
      " 3   num_ratings    1539 non-null   object \n",
      " 4   num_reviews    1539 non-null   object \n",
      " 5   num_followers  1539 non-null   object \n",
      " 6   synopsis       1539 non-null   object \n",
      " 7   genre          1539 non-null   object \n",
      "dtypes: float64(1), object(7)\n",
      "memory usage: 108.2+ KB\n"
     ]
    }
   ],
   "source": [
    "df.info()"
   ]
  },
  {
   "cell_type": "code",
   "execution_count": 512,
   "id": "fb386e4e",
   "metadata": {},
   "outputs": [
    {
     "data": {
      "text/html": [
       "<div>\n",
       "<style scoped>\n",
       "    .dataframe tbody tr th:only-of-type {\n",
       "        vertical-align: middle;\n",
       "    }\n",
       "\n",
       "    .dataframe tbody tr th {\n",
       "        vertical-align: top;\n",
       "    }\n",
       "\n",
       "    .dataframe thead th {\n",
       "        text-align: right;\n",
       "    }\n",
       "</style>\n",
       "<table border=\"1\" class=\"dataframe\">\n",
       "  <thead>\n",
       "    <tr style=\"text-align: right;\">\n",
       "      <th></th>\n",
       "      <th>rating</th>\n",
       "    </tr>\n",
       "  </thead>\n",
       "  <tbody>\n",
       "    <tr>\n",
       "      <th>count</th>\n",
       "      <td>1539.000000</td>\n",
       "    </tr>\n",
       "    <tr>\n",
       "      <th>mean</th>\n",
       "      <td>4.037518</td>\n",
       "    </tr>\n",
       "    <tr>\n",
       "      <th>std</th>\n",
       "      <td>0.225939</td>\n",
       "    </tr>\n",
       "    <tr>\n",
       "      <th>min</th>\n",
       "      <td>2.780000</td>\n",
       "    </tr>\n",
       "    <tr>\n",
       "      <th>25%</th>\n",
       "      <td>3.905000</td>\n",
       "    </tr>\n",
       "    <tr>\n",
       "      <th>50%</th>\n",
       "      <td>4.050000</td>\n",
       "    </tr>\n",
       "    <tr>\n",
       "      <th>75%</th>\n",
       "      <td>4.180000</td>\n",
       "    </tr>\n",
       "    <tr>\n",
       "      <th>max</th>\n",
       "      <td>4.750000</td>\n",
       "    </tr>\n",
       "  </tbody>\n",
       "</table>\n",
       "</div>"
      ],
      "text/plain": [
       "            rating\n",
       "count  1539.000000\n",
       "mean      4.037518\n",
       "std       0.225939\n",
       "min       2.780000\n",
       "25%       3.905000\n",
       "50%       4.050000\n",
       "75%       4.180000\n",
       "max       4.750000"
      ]
     },
     "execution_count": 512,
     "metadata": {},
     "output_type": "execute_result"
    }
   ],
   "source": [
    "df.describe()"
   ]
  },
  {
   "cell_type": "markdown",
   "id": "ffb699da",
   "metadata": {},
   "source": [
    "#### Count unique number of titles"
   ]
  },
  {
   "cell_type": "code",
   "execution_count": 513,
   "id": "5abf585a",
   "metadata": {},
   "outputs": [
    {
     "data": {
      "text/plain": [
       "1539"
      ]
     },
     "execution_count": 513,
     "metadata": {},
     "output_type": "execute_result"
    }
   ],
   "source": [
    "df['title'].nunique()"
   ]
  },
  {
   "cell_type": "markdown",
   "id": "d7c178cb",
   "metadata": {},
   "source": [
    "#### Converting num_rating, num_reviews, num_followers into exact integers."
   ]
  },
  {
   "cell_type": "code",
   "execution_count": 514,
   "id": "f07cdf62",
   "metadata": {},
   "outputs": [],
   "source": [
    "df['num_ratings'] = df['num_ratings'].str.replace(',','')\n",
    "df['num_reviews'] = df['num_reviews'].str.replace(',','')\n",
    "df['num_followers'] = df['num_followers'].str.replace(',','')"
   ]
  },
  {
   "cell_type": "markdown",
   "id": "9e7d3bfa",
   "metadata": {},
   "source": [
    "#### Removing k from num_followers"
   ]
  },
  {
   "cell_type": "code",
   "execution_count": 515,
   "id": "9570b1ca",
   "metadata": {},
   "outputs": [],
   "source": [
    "def extract_int(s):\n",
    "    return \"\".join(x for x in str(s) if x.isdigit())\n",
    "\n",
    "df['num_followers'] = df['num_followers'].map(extract_int)"
   ]
  },
  {
   "cell_type": "code",
   "execution_count": 516,
   "id": "3fd03bdb",
   "metadata": {},
   "outputs": [
    {
     "data": {
      "text/html": [
       "<div>\n",
       "<style scoped>\n",
       "    .dataframe tbody tr th:only-of-type {\n",
       "        vertical-align: middle;\n",
       "    }\n",
       "\n",
       "    .dataframe tbody tr th {\n",
       "        vertical-align: top;\n",
       "    }\n",
       "\n",
       "    .dataframe thead th {\n",
       "        text-align: right;\n",
       "    }\n",
       "</style>\n",
       "<table border=\"1\" class=\"dataframe\">\n",
       "  <thead>\n",
       "    <tr style=\"text-align: right;\">\n",
       "      <th></th>\n",
       "      <th>title</th>\n",
       "      <th>rating</th>\n",
       "      <th>name</th>\n",
       "      <th>num_ratings</th>\n",
       "      <th>num_reviews</th>\n",
       "      <th>num_followers</th>\n",
       "      <th>synopsis</th>\n",
       "      <th>genre</th>\n",
       "    </tr>\n",
       "  </thead>\n",
       "  <tbody>\n",
       "    <tr>\n",
       "      <th>0</th>\n",
       "      <td>Sapiens: A Brief History of Humankind</td>\n",
       "      <td>4.39</td>\n",
       "      <td>Yuval Noah Harari</td>\n",
       "      <td>806229</td>\n",
       "      <td>46149</td>\n",
       "      <td>305</td>\n",
       "      <td>100,000 years ago, at least six human species ...</td>\n",
       "      <td>history</td>\n",
       "    </tr>\n",
       "    <tr>\n",
       "      <th>1</th>\n",
       "      <td>Guns, Germs, and Steel: The Fates of Human Soc...</td>\n",
       "      <td>4.04</td>\n",
       "      <td>Jared Diamond</td>\n",
       "      <td>367056</td>\n",
       "      <td>12879</td>\n",
       "      <td>6538</td>\n",
       "      <td>\"Diamond has written a book of remarkable scop...</td>\n",
       "      <td>history</td>\n",
       "    </tr>\n",
       "    <tr>\n",
       "      <th>2</th>\n",
       "      <td>A People's History of the United States</td>\n",
       "      <td>4.07</td>\n",
       "      <td>Howard Zinn</td>\n",
       "      <td>224620</td>\n",
       "      <td>6509</td>\n",
       "      <td>2354</td>\n",
       "      <td>In the book, Zinn presented a different side o...</td>\n",
       "      <td>history</td>\n",
       "    </tr>\n",
       "    <tr>\n",
       "      <th>3</th>\n",
       "      <td>The Devil in the White City: Murder, Magic, an...</td>\n",
       "      <td>3.99</td>\n",
       "      <td>Erik Larson</td>\n",
       "      <td>613157</td>\n",
       "      <td>36644</td>\n",
       "      <td>642</td>\n",
       "      <td>Author Erik Larson imbues the incredible event...</td>\n",
       "      <td>history</td>\n",
       "    </tr>\n",
       "    <tr>\n",
       "      <th>4</th>\n",
       "      <td>The Diary of a Young Girl</td>\n",
       "      <td>4.18</td>\n",
       "      <td>Anne Frank</td>\n",
       "      <td>3313033</td>\n",
       "      <td>35591</td>\n",
       "      <td>4621</td>\n",
       "      <td>Discovered in the attic in which she spent the...</td>\n",
       "      <td>history</td>\n",
       "    </tr>\n",
       "  </tbody>\n",
       "</table>\n",
       "</div>"
      ],
      "text/plain": [
       "                                               title  rating  \\\n",
       "0              Sapiens: A Brief History of Humankind    4.39   \n",
       "1  Guns, Germs, and Steel: The Fates of Human Soc...    4.04   \n",
       "2            A People's History of the United States    4.07   \n",
       "3  The Devil in the White City: Murder, Magic, an...    3.99   \n",
       "4                          The Diary of a Young Girl    4.18   \n",
       "\n",
       "                name num_ratings num_reviews num_followers  \\\n",
       "0  Yuval Noah Harari      806229       46149           305   \n",
       "1      Jared Diamond      367056       12879          6538   \n",
       "2        Howard Zinn      224620        6509          2354   \n",
       "3        Erik Larson      613157       36644           642   \n",
       "4         Anne Frank     3313033       35591          4621   \n",
       "\n",
       "                                            synopsis    genre  \n",
       "0  100,000 years ago, at least six human species ...  history  \n",
       "1  \"Diamond has written a book of remarkable scop...  history  \n",
       "2  In the book, Zinn presented a different side o...  history  \n",
       "3  Author Erik Larson imbues the incredible event...  history  \n",
       "4  Discovered in the attic in which she spent the...  history  "
      ]
     },
     "execution_count": 516,
     "metadata": {},
     "output_type": "execute_result"
    }
   ],
   "source": [
    "df.head()"
   ]
  },
  {
   "cell_type": "code",
   "execution_count": 517,
   "id": "280dd8b8",
   "metadata": {},
   "outputs": [],
   "source": [
    "df['num_ratings'] = pd.to_numeric(df['num_ratings'])\n",
    "df['num_reviews'] = pd.to_numeric(df['num_reviews'])\n",
    "df['num_followers'] = pd.to_numeric(df['num_followers'])"
   ]
  },
  {
   "cell_type": "code",
   "execution_count": 518,
   "id": "8ec0c727",
   "metadata": {},
   "outputs": [],
   "source": [
    "df2 = df.copy() # make a copy so that we can do data preprocessing for 2nd part. prediction of rating"
   ]
  },
  {
   "cell_type": "code",
   "execution_count": 519,
   "id": "58cd6f27",
   "metadata": {},
   "outputs": [
    {
     "data": {
      "text/plain": [
       "title             object\n",
       "rating           float64\n",
       "name              object\n",
       "num_ratings        int64\n",
       "num_reviews        int64\n",
       "num_followers      int64\n",
       "synopsis          object\n",
       "genre             object\n",
       "dtype: object"
      ]
     },
     "execution_count": 519,
     "metadata": {},
     "output_type": "execute_result"
    }
   ],
   "source": [
    "df.dtypes"
   ]
  },
  {
   "cell_type": "markdown",
   "id": "6e539251",
   "metadata": {},
   "source": [
    "#### Count unique Genre"
   ]
  },
  {
   "cell_type": "code",
   "execution_count": 520,
   "id": "93d30184",
   "metadata": {},
   "outputs": [
    {
     "data": {
      "text/plain": [
       "10"
      ]
     },
     "execution_count": 520,
     "metadata": {},
     "output_type": "execute_result"
    }
   ],
   "source": [
    "df['genre'].nunique()"
   ]
  },
  {
   "cell_type": "markdown",
   "id": "4e86adf0",
   "metadata": {},
   "source": [
    "#### Count books in each genre"
   ]
  },
  {
   "cell_type": "code",
   "execution_count": 521,
   "id": "63fdf80e",
   "metadata": {},
   "outputs": [
    {
     "data": {
      "text/plain": [
       "genre\n",
       "thriller           481\n",
       "fantasy            348\n",
       "romance            111\n",
       "horror             100\n",
       "history             99\n",
       "psychology          99\n",
       "travel              98\n",
       "science             79\n",
       "sports              79\n",
       "science_fiction     45\n",
       "Name: genre, dtype: int64"
      ]
     },
     "execution_count": 521,
     "metadata": {},
     "output_type": "execute_result"
    }
   ],
   "source": [
    "df.groupby('genre')['genre'].count().sort_values(ascending=False)"
   ]
  },
  {
   "cell_type": "markdown",
   "id": "0248ca72",
   "metadata": {},
   "source": [
    "# Data Visualization"
   ]
  },
  {
   "cell_type": "code",
   "execution_count": 522,
   "id": "10f3dfdf",
   "metadata": {},
   "outputs": [
    {
     "data": {
      "text/plain": [
       "4.05    39\n",
       "4.09    37\n",
       "4.11    36\n",
       "4.03    36\n",
       "4.06    34\n",
       "        ..\n",
       "3.45     1\n",
       "3.32     1\n",
       "3.48     1\n",
       "3.42     1\n",
       "4.67     1\n",
       "Name: rating, Length: 130, dtype: int64"
      ]
     },
     "execution_count": 522,
     "metadata": {},
     "output_type": "execute_result"
    }
   ],
   "source": [
    "df['rating'].value_counts()"
   ]
  },
  {
   "cell_type": "code",
   "execution_count": 523,
   "id": "65ca626c",
   "metadata": {},
   "outputs": [
    {
     "data": {
      "text/plain": [
       "Text(0, 0.5, 'Frequency')"
      ]
     },
     "execution_count": 523,
     "metadata": {},
     "output_type": "execute_result"
    },
    {
     "data": {
      "image/png": "[encoded data removed]",
      "text/plain": [
       "<Figure size 640x480 with 1 Axes>"
      ]
     },
     "metadata": {},
     "output_type": "display_data"
    }
   ],
   "source": [
    "sns.distplot(x=df['rating'], kde=False)\n",
    "plt.title('Distribution Plot of ratings')         \n",
    "plt.xlabel('Rating')\n",
    "plt.ylabel('Frequency')"
   ]
  },
  {
   "cell_type": "code",
   "execution_count": 524,
   "id": "77330050",
   "metadata": {},
   "outputs": [
    {
     "data": {
      "text/plain": [
       "(array([0, 1, 2, 3, 4, 5, 6, 7, 8, 9]),\n",
       " [Text(0, 0, 'history'),\n",
       "  Text(1, 0, 'horror'),\n",
       "  Text(2, 0, 'psychology'),\n",
       "  Text(3, 0, 'romance'),\n",
       "  Text(4, 0, 'science'),\n",
       "  Text(5, 0, 'science_fiction'),\n",
       "  Text(6, 0, 'sports'),\n",
       "  Text(7, 0, 'thriller'),\n",
       "  Text(8, 0, 'travel'),\n",
       "  Text(9, 0, 'fantasy')])"
      ]
     },
     "execution_count": 524,
     "metadata": {},
     "output_type": "execute_result"
    },
    {
     "data": {
      "image/png": "[encoded data removed]",
      "text/plain": [
       "<Figure size 640x480 with 1 Axes>"
      ]
     },
     "metadata": {},
     "output_type": "display_data"
    }
   ],
   "source": [
    "sns.countplot(x='genre', data=df,palette='rainbow',edgecolor=(0,0,0))\n",
    "plt.xlabel('Movie Genres')\n",
    "plt.ylabel('Count')\n",
    "plt.title('Visualize the Genre Count')\n",
    "plt.xticks(rotation=45)"
   ]
  },
  {
   "cell_type": "code",
   "execution_count": 525,
   "id": "ee7ff2c4",
   "metadata": {},
   "outputs": [
    {
     "data": {
      "text/html": [
       "<div>\n",
       "<style scoped>\n",
       "    .dataframe tbody tr th:only-of-type {\n",
       "        vertical-align: middle;\n",
       "    }\n",
       "\n",
       "    .dataframe tbody tr th {\n",
       "        vertical-align: top;\n",
       "    }\n",
       "\n",
       "    .dataframe thead th {\n",
       "        text-align: right;\n",
       "    }\n",
       "</style>\n",
       "<table border=\"1\" class=\"dataframe\">\n",
       "  <thead>\n",
       "    <tr style=\"text-align: right;\">\n",
       "      <th></th>\n",
       "      <th>title</th>\n",
       "      <th>num_ratings</th>\n",
       "    </tr>\n",
       "  </thead>\n",
       "  <tbody>\n",
       "    <tr>\n",
       "      <th>0</th>\n",
       "      <td>Harry Potter and the Sorcerer's Stone</td>\n",
       "      <td>8739776</td>\n",
       "    </tr>\n",
       "    <tr>\n",
       "      <th>1</th>\n",
       "      <td>The Hunger Games</td>\n",
       "      <td>7543770</td>\n",
       "    </tr>\n",
       "    <tr>\n",
       "      <th>2</th>\n",
       "      <td>Twilight</td>\n",
       "      <td>5864394</td>\n",
       "    </tr>\n",
       "    <tr>\n",
       "      <th>3</th>\n",
       "      <td>The Fault in Our Stars</td>\n",
       "      <td>4462969</td>\n",
       "    </tr>\n",
       "    <tr>\n",
       "      <th>4</th>\n",
       "      <td>1984</td>\n",
       "      <td>3928270</td>\n",
       "    </tr>\n",
       "    <tr>\n",
       "      <th>...</th>\n",
       "      <td>...</td>\n",
       "      <td>...</td>\n",
       "    </tr>\n",
       "    <tr>\n",
       "      <th>1534</th>\n",
       "      <td>The Good Girl's Guide to Getting Lost: A Memoi...</td>\n",
       "      <td>3759</td>\n",
       "    </tr>\n",
       "    <tr>\n",
       "      <th>1535</th>\n",
       "      <td>Travel as a Political Act</td>\n",
       "      <td>3173</td>\n",
       "    </tr>\n",
       "    <tr>\n",
       "      <th>1536</th>\n",
       "      <td>Between the Woods and the Water</td>\n",
       "      <td>3121</td>\n",
       "    </tr>\n",
       "    <tr>\n",
       "      <th>1537</th>\n",
       "      <td>The Road to Oxiana</td>\n",
       "      <td>3017</td>\n",
       "    </tr>\n",
       "    <tr>\n",
       "      <th>1538</th>\n",
       "      <td>Black Lamb and Grey Falcon</td>\n",
       "      <td>2281</td>\n",
       "    </tr>\n",
       "  </tbody>\n",
       "</table>\n",
       "<p>1539 rows × 2 columns</p>\n",
       "</div>"
      ],
      "text/plain": [
       "                                                  title  num_ratings\n",
       "0                 Harry Potter and the Sorcerer's Stone      8739776\n",
       "1                                      The Hunger Games      7543770\n",
       "2                                              Twilight      5864394\n",
       "3                                The Fault in Our Stars      4462969\n",
       "4                                                  1984      3928270\n",
       "...                                                 ...          ...\n",
       "1534  The Good Girl's Guide to Getting Lost: A Memoi...         3759\n",
       "1535                          Travel as a Political Act         3173\n",
       "1536                    Between the Woods and the Water         3121\n",
       "1537                                 The Road to Oxiana         3017\n",
       "1538                         Black Lamb and Grey Falcon         2281\n",
       "\n",
       "[1539 rows x 2 columns]"
      ]
     },
     "execution_count": 525,
     "metadata": {},
     "output_type": "execute_result"
    }
   ],
   "source": [
    "df[['title','num_ratings']].sort_values(by='num_ratings', ascending=False, ignore_index=True)"
   ]
  },
  {
   "cell_type": "markdown",
   "id": "21182c22",
   "metadata": {},
   "source": [
    "#### Top 10 Titles by number of ratings"
   ]
  },
  {
   "cell_type": "code",
   "execution_count": 526,
   "id": "2a152815",
   "metadata": {},
   "outputs": [
    {
     "data": {
      "text/html": [
       "<div>\n",
       "<style scoped>\n",
       "    .dataframe tbody tr th:only-of-type {\n",
       "        vertical-align: middle;\n",
       "    }\n",
       "\n",
       "    .dataframe tbody tr th {\n",
       "        vertical-align: top;\n",
       "    }\n",
       "\n",
       "    .dataframe thead th {\n",
       "        text-align: right;\n",
       "    }\n",
       "</style>\n",
       "<table border=\"1\" class=\"dataframe\">\n",
       "  <thead>\n",
       "    <tr style=\"text-align: right;\">\n",
       "      <th></th>\n",
       "      <th>title</th>\n",
       "      <th>num_ratings</th>\n",
       "    </tr>\n",
       "  </thead>\n",
       "  <tbody>\n",
       "    <tr>\n",
       "      <th>0</th>\n",
       "      <td>Harry Potter and the Sorcerer's Stone</td>\n",
       "      <td>8739776</td>\n",
       "    </tr>\n",
       "    <tr>\n",
       "      <th>1</th>\n",
       "      <td>The Hunger Games</td>\n",
       "      <td>7543770</td>\n",
       "    </tr>\n",
       "    <tr>\n",
       "      <th>2</th>\n",
       "      <td>Twilight</td>\n",
       "      <td>5864394</td>\n",
       "    </tr>\n",
       "    <tr>\n",
       "      <th>3</th>\n",
       "      <td>The Fault in Our Stars</td>\n",
       "      <td>4462969</td>\n",
       "    </tr>\n",
       "    <tr>\n",
       "      <th>4</th>\n",
       "      <td>1984</td>\n",
       "      <td>3928270</td>\n",
       "    </tr>\n",
       "    <tr>\n",
       "      <th>5</th>\n",
       "      <td>Pride and Prejudice</td>\n",
       "      <td>3702809</td>\n",
       "    </tr>\n",
       "    <tr>\n",
       "      <th>6</th>\n",
       "      <td>Harry Potter and the Prisoner of Azkaban</td>\n",
       "      <td>3554132</td>\n",
       "    </tr>\n",
       "    <tr>\n",
       "      <th>7</th>\n",
       "      <td>Divergent</td>\n",
       "      <td>3518696</td>\n",
       "    </tr>\n",
       "    <tr>\n",
       "      <th>8</th>\n",
       "      <td>The Hobbit</td>\n",
       "      <td>3449648</td>\n",
       "    </tr>\n",
       "    <tr>\n",
       "      <th>9</th>\n",
       "      <td>Harry Potter and the Chamber of Secrets</td>\n",
       "      <td>3374768</td>\n",
       "    </tr>\n",
       "    <tr>\n",
       "      <th>10</th>\n",
       "      <td>Animal Farm</td>\n",
       "      <td>3355653</td>\n",
       "    </tr>\n",
       "  </tbody>\n",
       "</table>\n",
       "</div>"
      ],
      "text/plain": [
       "                                       title  num_ratings\n",
       "0      Harry Potter and the Sorcerer's Stone      8739776\n",
       "1                           The Hunger Games      7543770\n",
       "2                                   Twilight      5864394\n",
       "3                     The Fault in Our Stars      4462969\n",
       "4                                       1984      3928270\n",
       "5                        Pride and Prejudice      3702809\n",
       "6   Harry Potter and the Prisoner of Azkaban      3554132\n",
       "7                                  Divergent      3518696\n",
       "8                                 The Hobbit      3449648\n",
       "9    Harry Potter and the Chamber of Secrets      3374768\n",
       "10                               Animal Farm      3355653"
      ]
     },
     "execution_count": 526,
     "metadata": {},
     "output_type": "execute_result"
    }
   ],
   "source": [
    "df10 = df[['title','num_ratings']].sort_values(by='num_ratings', ascending=False, ignore_index=True).iloc[:11,:]\n",
    "df10"
   ]
  },
  {
   "cell_type": "code",
   "execution_count": 527,
   "id": "756a20a2",
   "metadata": {},
   "outputs": [
    {
     "data": {
      "text/plain": [
       "<AxesSubplot: xlabel='num_ratings', ylabel='title'>"
      ]
     },
     "execution_count": 527,
     "metadata": {},
     "output_type": "execute_result"
    },
    {
     "data": {
      "image/png": "[encoded data removed]",
      "text/plain": [
       "<Figure size 640x480 with 1 Axes>"
      ]
     },
     "metadata": {},
     "output_type": "display_data"
    }
   ],
   "source": [
    "sns.barplot(y='title',x='num_ratings',data=df10)"
   ]
  },
  {
   "cell_type": "markdown",
   "id": "7bdbea7e",
   "metadata": {},
   "source": [
    "#### Top 10 Titles by number of reviews"
   ]
  },
  {
   "cell_type": "code",
   "execution_count": 528,
   "id": "215cfc73",
   "metadata": {},
   "outputs": [
    {
     "data": {
      "text/html": [
       "<div>\n",
       "<style scoped>\n",
       "    .dataframe tbody tr th:only-of-type {\n",
       "        vertical-align: middle;\n",
       "    }\n",
       "\n",
       "    .dataframe tbody tr th {\n",
       "        vertical-align: top;\n",
       "    }\n",
       "\n",
       "    .dataframe thead th {\n",
       "        text-align: right;\n",
       "    }\n",
       "</style>\n",
       "<table border=\"1\" class=\"dataframe\">\n",
       "  <thead>\n",
       "    <tr style=\"text-align: right;\">\n",
       "      <th></th>\n",
       "      <th>title</th>\n",
       "      <th>num_reviews</th>\n",
       "    </tr>\n",
       "  </thead>\n",
       "  <tbody>\n",
       "    <tr>\n",
       "      <th>0</th>\n",
       "      <td>The Hunger Games</td>\n",
       "      <td>186913</td>\n",
       "    </tr>\n",
       "    <tr>\n",
       "      <th>1</th>\n",
       "      <td>The Fault in Our Stars</td>\n",
       "      <td>168215</td>\n",
       "    </tr>\n",
       "    <tr>\n",
       "      <th>2</th>\n",
       "      <td>It Ends with Us</td>\n",
       "      <td>147653</td>\n",
       "    </tr>\n",
       "    <tr>\n",
       "      <th>3</th>\n",
       "      <td>Gone Girl</td>\n",
       "      <td>142406</td>\n",
       "    </tr>\n",
       "    <tr>\n",
       "      <th>4</th>\n",
       "      <td>Harry Potter and the Sorcerer's Stone</td>\n",
       "      <td>137696</td>\n",
       "    </tr>\n",
       "    <tr>\n",
       "      <th>5</th>\n",
       "      <td>The Book Thief</td>\n",
       "      <td>129623</td>\n",
       "    </tr>\n",
       "    <tr>\n",
       "      <th>6</th>\n",
       "      <td>Verity</td>\n",
       "      <td>121802</td>\n",
       "    </tr>\n",
       "    <tr>\n",
       "      <th>7</th>\n",
       "      <td>The Girl on the Train</td>\n",
       "      <td>118600</td>\n",
       "    </tr>\n",
       "    <tr>\n",
       "      <th>8</th>\n",
       "      <td>Twilight</td>\n",
       "      <td>116972</td>\n",
       "    </tr>\n",
       "    <tr>\n",
       "      <th>9</th>\n",
       "      <td>Divergent</td>\n",
       "      <td>114503</td>\n",
       "    </tr>\n",
       "    <tr>\n",
       "      <th>10</th>\n",
       "      <td>Mockingjay</td>\n",
       "      <td>111479</td>\n",
       "    </tr>\n",
       "  </tbody>\n",
       "</table>\n",
       "</div>"
      ],
      "text/plain": [
       "                                    title  num_reviews\n",
       "0                        The Hunger Games       186913\n",
       "1                  The Fault in Our Stars       168215\n",
       "2                         It Ends with Us       147653\n",
       "3                               Gone Girl       142406\n",
       "4   Harry Potter and the Sorcerer's Stone       137696\n",
       "5                          The Book Thief       129623\n",
       "6                                  Verity       121802\n",
       "7                   The Girl on the Train       118600\n",
       "8                                Twilight       116972\n",
       "9                               Divergent       114503\n",
       "10                             Mockingjay       111479"
      ]
     },
     "execution_count": 528,
     "metadata": {},
     "output_type": "execute_result"
    }
   ],
   "source": [
    "df10 = df[['title','num_reviews']].sort_values(by='num_reviews', ascending=False, ignore_index=True).iloc[:11,:]\n",
    "df10"
   ]
  },
  {
   "cell_type": "code",
   "execution_count": 529,
   "id": "8211707a",
   "metadata": {},
   "outputs": [
    {
     "data": {
      "text/plain": [
       "(array([     0.,  25000.,  50000.,  75000., 100000., 125000., 150000.,\n",
       "        175000., 200000.]),\n",
       " [Text(0.0, 0, '0'),\n",
       "  Text(25000.0, 0, '25000'),\n",
       "  Text(50000.0, 0, '50000'),\n",
       "  Text(75000.0, 0, '75000'),\n",
       "  Text(100000.0, 0, '100000'),\n",
       "  Text(125000.0, 0, '125000'),\n",
       "  Text(150000.0, 0, '150000'),\n",
       "  Text(175000.0, 0, '175000'),\n",
       "  Text(200000.0, 0, '200000')])"
      ]
     },
     "execution_count": 529,
     "metadata": {},
     "output_type": "execute_result"
    },
    {
     "data": {
      "image/png": "[encoded data removed]",
      "text/plain": [
       "<Figure size 640x480 with 1 Axes>"
      ]
     },
     "metadata": {},
     "output_type": "display_data"
    }
   ],
   "source": [
    "sns.barplot(y='title',x='num_reviews',data=df10)\n",
    "plt.xticks(rotation=45)"
   ]
  },
  {
   "cell_type": "markdown",
   "id": "29e35d2e",
   "metadata": {},
   "source": [
    "# Genre Prediction\n",
    "We will use Synopsis to predict the Genre using NLP Text Processing using NLTK"
   ]
  },
  {
   "cell_type": "code",
   "execution_count": 530,
   "id": "e32a07b0",
   "metadata": {},
   "outputs": [],
   "source": [
    "import string\n",
    "import random\n",
    "import nltk\n",
    "import re\n",
    "from nltk.corpus import stopwords\n",
    "stop_words = stopwords.words('english')"
   ]
  },
  {
   "cell_type": "code",
   "execution_count": 537,
   "id": "9a83a0dd",
   "metadata": {},
   "outputs": [
    {
     "name": "stderr",
     "output_type": "stream",
     "text": [
      "[nltk_data] Downloading package wordnet to\n",
      "[nltk_data]     C:\\Users\\Lenovo\\AppData\\Roaming\\nltk_data...\n",
      "[nltk_data]   Package wordnet is already up-to-date!\n"
     ]
    },
    {
     "data": {
      "text/plain": [
       "True"
      ]
     },
     "execution_count": 537,
     "metadata": {},
     "output_type": "execute_result"
    }
   ],
   "source": [
    "from nltk.stem import PorterStemmer\n",
    "from nltk.stem import WordNetLemmatizer\n",
    "nltk.download('wordnet')"
   ]
  },
  {
   "cell_type": "code",
   "execution_count": 540,
   "id": "8b7c0abb",
   "metadata": {},
   "outputs": [],
   "source": [
    "corpus = []\n",
    "ps = PorterStemmer()\n",
    "\n",
    "for i in range(0, df.shape[0]):\n",
    "\n",
    "  # Cleaning special character from the dialog/script\n",
    "  dialog = re.sub(pattern='[^a-zA-Z]', repl=' ', string=df['synopsis'][i])\n",
    "\n",
    "  # Converting the entire dialog/script into lower case\n",
    "  dialog = dialog.lower()\n",
    "\n",
    "  # Tokenizing the dialog/script by words\n",
    "  words = dialog.split()\n",
    "\n",
    "  # Removing the stop words\n",
    "  dialog_words = [word for word in words if word not in set(stopwords.words('english'))]\n",
    "\n",
    "  # Stemming the words\n",
    "  words = [ps.stem(word) for word in dialog_words]\n",
    "\n",
    "  # Joining the stemmed words\n",
    "  dialog = ' '.join(words)\n",
    "\n",
    "  # Creating a corpus\n",
    "  corpus.append(dialog)"
   ]
  },
  {
   "cell_type": "code",
   "execution_count": 541,
   "id": "ad98d88f",
   "metadata": {},
   "outputs": [
    {
     "data": {
      "text/plain": [
       "1539"
      ]
     },
     "execution_count": 541,
     "metadata": {},
     "output_type": "execute_result"
    }
   ],
   "source": [
    "len(corpus)"
   ]
  },
  {
   "cell_type": "markdown",
   "id": "d0e07674",
   "metadata": {},
   "source": [
    "#### mapping Genre to values"
   ]
  },
  {
   "cell_type": "code",
   "execution_count": 542,
   "id": "d9cc51a5",
   "metadata": {},
   "outputs": [
    {
     "data": {
      "text/plain": [
       "array(['history', 'horror', 'psychology', 'romance', 'science',\n",
       "       'science_fiction', 'sports', 'thriller', 'travel', 'fantasy'],\n",
       "      dtype=object)"
      ]
     },
     "execution_count": 542,
     "metadata": {},
     "output_type": "execute_result"
    }
   ],
   "source": [
    "df['genre'].unique()"
   ]
  },
  {
   "cell_type": "code",
   "execution_count": 543,
   "id": "9869d95a",
   "metadata": {},
   "outputs": [
    {
     "data": {
      "text/html": [
       "<div>\n",
       "<style scoped>\n",
       "    .dataframe tbody tr th:only-of-type {\n",
       "        vertical-align: middle;\n",
       "    }\n",
       "\n",
       "    .dataframe tbody tr th {\n",
       "        vertical-align: top;\n",
       "    }\n",
       "\n",
       "    .dataframe thead th {\n",
       "        text-align: right;\n",
       "    }\n",
       "</style>\n",
       "<table border=\"1\" class=\"dataframe\">\n",
       "  <thead>\n",
       "    <tr style=\"text-align: right;\">\n",
       "      <th></th>\n",
       "      <th>title</th>\n",
       "      <th>rating</th>\n",
       "      <th>name</th>\n",
       "      <th>num_ratings</th>\n",
       "      <th>num_reviews</th>\n",
       "      <th>num_followers</th>\n",
       "      <th>synopsis</th>\n",
       "      <th>genre</th>\n",
       "    </tr>\n",
       "  </thead>\n",
       "  <tbody>\n",
       "    <tr>\n",
       "      <th>0</th>\n",
       "      <td>Sapiens: A Brief History of Humankind</td>\n",
       "      <td>4.39</td>\n",
       "      <td>Yuval Noah Harari</td>\n",
       "      <td>806229</td>\n",
       "      <td>46149</td>\n",
       "      <td>305</td>\n",
       "      <td>100,000 years ago, at least six human species ...</td>\n",
       "      <td>0</td>\n",
       "    </tr>\n",
       "    <tr>\n",
       "      <th>1</th>\n",
       "      <td>Guns, Germs, and Steel: The Fates of Human Soc...</td>\n",
       "      <td>4.04</td>\n",
       "      <td>Jared Diamond</td>\n",
       "      <td>367056</td>\n",
       "      <td>12879</td>\n",
       "      <td>6538</td>\n",
       "      <td>\"Diamond has written a book of remarkable scop...</td>\n",
       "      <td>0</td>\n",
       "    </tr>\n",
       "    <tr>\n",
       "      <th>2</th>\n",
       "      <td>A People's History of the United States</td>\n",
       "      <td>4.07</td>\n",
       "      <td>Howard Zinn</td>\n",
       "      <td>224620</td>\n",
       "      <td>6509</td>\n",
       "      <td>2354</td>\n",
       "      <td>In the book, Zinn presented a different side o...</td>\n",
       "      <td>0</td>\n",
       "    </tr>\n",
       "    <tr>\n",
       "      <th>3</th>\n",
       "      <td>The Devil in the White City: Murder, Magic, an...</td>\n",
       "      <td>3.99</td>\n",
       "      <td>Erik Larson</td>\n",
       "      <td>613157</td>\n",
       "      <td>36644</td>\n",
       "      <td>642</td>\n",
       "      <td>Author Erik Larson imbues the incredible event...</td>\n",
       "      <td>0</td>\n",
       "    </tr>\n",
       "    <tr>\n",
       "      <th>4</th>\n",
       "      <td>The Diary of a Young Girl</td>\n",
       "      <td>4.18</td>\n",
       "      <td>Anne Frank</td>\n",
       "      <td>3313033</td>\n",
       "      <td>35591</td>\n",
       "      <td>4621</td>\n",
       "      <td>Discovered in the attic in which she spent the...</td>\n",
       "      <td>0</td>\n",
       "    </tr>\n",
       "    <tr>\n",
       "      <th>...</th>\n",
       "      <td>...</td>\n",
       "      <td>...</td>\n",
       "      <td>...</td>\n",
       "      <td>...</td>\n",
       "      <td>...</td>\n",
       "      <td>...</td>\n",
       "      <td>...</td>\n",
       "      <td>...</td>\n",
       "    </tr>\n",
       "    <tr>\n",
       "      <th>1534</th>\n",
       "      <td>Hounded</td>\n",
       "      <td>4.09</td>\n",
       "      <td>Kevin Hearne</td>\n",
       "      <td>83827</td>\n",
       "      <td>7203</td>\n",
       "      <td>11905</td>\n",
       "      <td>Atticus O’Sullivan, last of the Druids, lives ...</td>\n",
       "      <td>9</td>\n",
       "    </tr>\n",
       "    <tr>\n",
       "      <th>1535</th>\n",
       "      <td>Charlie and the Chocolate Factory</td>\n",
       "      <td>4.15</td>\n",
       "      <td>Roald Dahl</td>\n",
       "      <td>775001</td>\n",
       "      <td>14252</td>\n",
       "      <td>22897</td>\n",
       "      <td>Charlie Bucket's wonderful adventure begins wh...</td>\n",
       "      <td>9</td>\n",
       "    </tr>\n",
       "    <tr>\n",
       "      <th>1536</th>\n",
       "      <td>Red Rising</td>\n",
       "      <td>4.25</td>\n",
       "      <td>Pierce Brown</td>\n",
       "      <td>310138</td>\n",
       "      <td>30388</td>\n",
       "      <td>30510</td>\n",
       "      <td>\"I live for the dream that my children will be...</td>\n",
       "      <td>9</td>\n",
       "    </tr>\n",
       "    <tr>\n",
       "      <th>1537</th>\n",
       "      <td>Frostbite</td>\n",
       "      <td>4.26</td>\n",
       "      <td>Richelle Mead</td>\n",
       "      <td>337538</td>\n",
       "      <td>12435</td>\n",
       "      <td>66448</td>\n",
       "      <td>Rose loves Dimitri, Dimitri might love Tasha, ...</td>\n",
       "      <td>9</td>\n",
       "    </tr>\n",
       "    <tr>\n",
       "      <th>1538</th>\n",
       "      <td>Radiance</td>\n",
       "      <td>4.03</td>\n",
       "      <td>Grace Draven</td>\n",
       "      <td>50102</td>\n",
       "      <td>5550</td>\n",
       "      <td>6090</td>\n",
       "      <td>The Prince of no value\\nBrishen Khaskem, princ...</td>\n",
       "      <td>9</td>\n",
       "    </tr>\n",
       "  </tbody>\n",
       "</table>\n",
       "<p>1539 rows × 8 columns</p>\n",
       "</div>"
      ],
      "text/plain": [
       "                                                  title  rating  \\\n",
       "0                 Sapiens: A Brief History of Humankind    4.39   \n",
       "1     Guns, Germs, and Steel: The Fates of Human Soc...    4.04   \n",
       "2               A People's History of the United States    4.07   \n",
       "3     The Devil in the White City: Murder, Magic, an...    3.99   \n",
       "4                             The Diary of a Young Girl    4.18   \n",
       "...                                                 ...     ...   \n",
       "1534                                            Hounded    4.09   \n",
       "1535                  Charlie and the Chocolate Factory    4.15   \n",
       "1536                                         Red Rising    4.25   \n",
       "1537                                          Frostbite    4.26   \n",
       "1538                                           Radiance    4.03   \n",
       "\n",
       "                   name  num_ratings  num_reviews  num_followers  \\\n",
       "0     Yuval Noah Harari       806229        46149            305   \n",
       "1         Jared Diamond       367056        12879           6538   \n",
       "2           Howard Zinn       224620         6509           2354   \n",
       "3           Erik Larson       613157        36644            642   \n",
       "4            Anne Frank      3313033        35591           4621   \n",
       "...                 ...          ...          ...            ...   \n",
       "1534       Kevin Hearne        83827         7203          11905   \n",
       "1535         Roald Dahl       775001        14252          22897   \n",
       "1536       Pierce Brown       310138        30388          30510   \n",
       "1537      Richelle Mead       337538        12435          66448   \n",
       "1538       Grace Draven        50102         5550           6090   \n",
       "\n",
       "                                               synopsis  genre  \n",
       "0     100,000 years ago, at least six human species ...      0  \n",
       "1     \"Diamond has written a book of remarkable scop...      0  \n",
       "2     In the book, Zinn presented a different side o...      0  \n",
       "3     Author Erik Larson imbues the incredible event...      0  \n",
       "4     Discovered in the attic in which she spent the...      0  \n",
       "...                                                 ...    ...  \n",
       "1534  Atticus O’Sullivan, last of the Druids, lives ...      9  \n",
       "1535  Charlie Bucket's wonderful adventure begins wh...      9  \n",
       "1536  \"I live for the dream that my children will be...      9  \n",
       "1537  Rose loves Dimitri, Dimitri might love Tasha, ...      9  \n",
       "1538  The Prince of no value\\nBrishen Khaskem, princ...      9  \n",
       "\n",
       "[1539 rows x 8 columns]"
      ]
     },
     "execution_count": 543,
     "metadata": {},
     "output_type": "execute_result"
    }
   ],
   "source": [
    "genre_mapper = {'history': 0, 'horror': 1, 'psychology': 2, 'romance':3, 'science':4, 'science_fiction':5, 'sports':6, \n",
    "                'travel':7, 'thriller': 8, 'fantasy': 9}\n",
    "df['genre'] = df['genre'].map(genre_mapper)\n",
    "df"
   ]
  },
  {
   "cell_type": "code",
   "execution_count": 544,
   "id": "4deefc81",
   "metadata": {},
   "outputs": [],
   "source": [
    "from sklearn.feature_extraction.text import TfidfVectorizer\n",
    "from sklearn.model_selection import train_test_split"
   ]
  },
  {
   "cell_type": "code",
   "execution_count": 545,
   "id": "ece91504",
   "metadata": {},
   "outputs": [],
   "source": [
    "tfidf_vectorizer = TfidfVectorizer(max_features=10000)\n",
    "\n",
    "X = tfidf_vectorizer.fit_transform(corpus).toarray()"
   ]
  },
  {
   "cell_type": "code",
   "execution_count": 599,
   "id": "d596c0ad",
   "metadata": {},
   "outputs": [
    {
     "data": {
      "text/plain": [
       "(1539, 10000)"
      ]
     },
     "execution_count": 599,
     "metadata": {},
     "output_type": "execute_result"
    }
   ],
   "source": [
    "X.shape"
   ]
  },
  {
   "cell_type": "code",
   "execution_count": 547,
   "id": "27cd226f",
   "metadata": {},
   "outputs": [
    {
     "data": {
      "text/plain": [
       "(1539,)"
      ]
     },
     "execution_count": 547,
     "metadata": {},
     "output_type": "execute_result"
    }
   ],
   "source": [
    "y = df['genre'].values\n",
    "y.shape"
   ]
  },
  {
   "cell_type": "code",
   "execution_count": 548,
   "id": "3c2b0019",
   "metadata": {},
   "outputs": [
    {
     "name": "stdout",
     "output_type": "stream",
     "text": [
      "X_train size: (1231, 10000), X_test size: (308, 10000)\n"
     ]
    }
   ],
   "source": [
    "X_train, X_test, y_train, y_test = train_test_split(X, y, test_size=0.20, random_state=44)\n",
    "print('X_train size: {}, X_test size: {}'.format(X_train.shape, X_test.shape))"
   ]
  },
  {
   "cell_type": "code",
   "execution_count": 549,
   "id": "930c0faf",
   "metadata": {},
   "outputs": [
    {
     "data": {
      "text/html": [
       "<style>#sk-container-id-12 {color: black;background-color: white;}#sk-container-id-12 pre{padding: 0;}#sk-container-id-12 div.sk-toggleable {background-color: white;}#sk-container-id-12 label.sk-toggleable__label {cursor: pointer;display: block;width: 100%;margin-bottom: 0;padding: 0.3em;box-sizing: border-box;text-align: center;}#sk-container-id-12 label.sk-toggleable__label-arrow:before {content: \"▸\";float: left;margin-right: 0.25em;color: #696969;}#sk-container-id-12 label.sk-toggleable__label-arrow:hover:before {color: black;}#sk-container-id-12 div.sk-estimator:hover label.sk-toggleable__label-arrow:before {color: black;}#sk-container-id-12 div.sk-toggleable__content {max-height: 0;max-width: 0;overflow: hidden;text-align: left;background-color: #f0f8ff;}#sk-container-id-12 div.sk-toggleable__content pre {margin: 0.2em;color: black;border-radius: 0.25em;background-color: #f0f8ff;}#sk-container-id-12 input.sk-toggleable__control:checked~div.sk-toggleable__content {max-height: 200px;max-width: 100%;overflow: auto;}#sk-container-id-12 input.sk-toggleable__control:checked~label.sk-toggleable__label-arrow:before {content: \"▾\";}#sk-container-id-12 div.sk-estimator input.sk-toggleable__control:checked~label.sk-toggleable__label {background-color: #d4ebff;}#sk-container-id-12 div.sk-label input.sk-toggleable__control:checked~label.sk-toggleable__label {background-color: #d4ebff;}#sk-container-id-12 input.sk-hidden--visually {border: 0;clip: rect(1px 1px 1px 1px);clip: rect(1px, 1px, 1px, 1px);height: 1px;margin: -1px;overflow: hidden;padding: 0;position: absolute;width: 1px;}#sk-container-id-12 div.sk-estimator {font-family: monospace;background-color: #f0f8ff;border: 1px dotted black;border-radius: 0.25em;box-sizing: border-box;margin-bottom: 0.5em;}#sk-container-id-12 div.sk-estimator:hover {background-color: #d4ebff;}#sk-container-id-12 div.sk-parallel-item::after {content: \"\";width: 100%;border-bottom: 1px solid gray;flex-grow: 1;}#sk-container-id-12 div.sk-label:hover label.sk-toggleable__label {background-color: #d4ebff;}#sk-container-id-12 div.sk-serial::before {content: \"\";position: absolute;border-left: 1px solid gray;box-sizing: border-box;top: 0;bottom: 0;left: 50%;z-index: 0;}#sk-container-id-12 div.sk-serial {display: flex;flex-direction: column;align-items: center;background-color: white;padding-right: 0.2em;padding-left: 0.2em;position: relative;}#sk-container-id-12 div.sk-item {position: relative;z-index: 1;}#sk-container-id-12 div.sk-parallel {display: flex;align-items: stretch;justify-content: center;background-color: white;position: relative;}#sk-container-id-12 div.sk-item::before, #sk-container-id-12 div.sk-parallel-item::before {content: \"\";position: absolute;border-left: 1px solid gray;box-sizing: border-box;top: 0;bottom: 0;left: 50%;z-index: -1;}#sk-container-id-12 div.sk-parallel-item {display: flex;flex-direction: column;z-index: 1;position: relative;background-color: white;}#sk-container-id-12 div.sk-parallel-item:first-child::after {align-self: flex-end;width: 50%;}#sk-container-id-12 div.sk-parallel-item:last-child::after {align-self: flex-start;width: 50%;}#sk-container-id-12 div.sk-parallel-item:only-child::after {width: 0;}#sk-container-id-12 div.sk-dashed-wrapped {border: 1px dashed gray;margin: 0 0.4em 0.5em 0.4em;box-sizing: border-box;padding-bottom: 0.4em;background-color: white;}#sk-container-id-12 div.sk-label label {font-family: monospace;font-weight: bold;display: inline-block;line-height: 1.2em;}#sk-container-id-12 div.sk-label-container {text-align: center;}#sk-container-id-12 div.sk-container {/* jupyter's `normalize.less` sets `[hidden] { display: none; }` but bootstrap.min.css set `[hidden] { display: none !important; }` so we also need the `!important` here to be able to override the default hidden behavior on the sphinx rendered scikit-learn.org. See: https://github.com/scikit-learn/scikit-learn/issues/21755 */display: inline-block !important;position: relative;}#sk-container-id-12 div.sk-text-repr-fallback {display: none;}</style><div id=\"sk-container-id-12\" class=\"sk-top-container\"><div class=\"sk-text-repr-fallback\"><pre>MultinomialNB()</pre><b>In a Jupyter environment, please rerun this cell to show the HTML representation or trust the notebook. <br />On GitHub, the HTML representation is unable to render, please try loading this page with nbviewer.org.</b></div><div class=\"sk-container\" hidden><div class=\"sk-item\"><div class=\"sk-estimator sk-toggleable\"><input class=\"sk-toggleable__control sk-hidden--visually\" id=\"sk-estimator-id-12\" type=\"checkbox\" checked><label for=\"sk-estimator-id-12\" class=\"sk-toggleable__label sk-toggleable__label-arrow\">MultinomialNB</label><div class=\"sk-toggleable__content\"><pre>MultinomialNB()</pre></div></div></div></div></div>"
      ],
      "text/plain": [
       "MultinomialNB()"
      ]
     },
     "execution_count": 549,
     "metadata": {},
     "output_type": "execute_result"
    }
   ],
   "source": [
    "from sklearn.naive_bayes import MultinomialNB\n",
    "nb_classifier = MultinomialNB()\n",
    "nb_classifier.fit(X_train, y_train)"
   ]
  },
  {
   "cell_type": "code",
   "execution_count": 550,
   "id": "5104ec51",
   "metadata": {},
   "outputs": [],
   "source": [
    "# Predicting the Test set results\n",
    "y_pred = nb_classifier.predict(X_test)"
   ]
  },
  {
   "cell_type": "code",
   "execution_count": 551,
   "id": "b2799648",
   "metadata": {},
   "outputs": [
    {
     "name": "stdout",
     "output_type": "stream",
     "text": [
      "Accuracy : 44.81%\n"
     ]
    }
   ],
   "source": [
    "# Calculating Accuracy\n",
    "from sklearn.metrics import accuracy_score, confusion_matrix, classification_report\n",
    "score1 = accuracy_score(y_test, y_pred)\n",
    "print(\"Accuracy : {}%\".format(round(score1*100,2)))"
   ]
  },
  {
   "cell_type": "code",
   "execution_count": 552,
   "id": "abdfac19",
   "metadata": {},
   "outputs": [
    {
     "name": "stdout",
     "output_type": "stream",
     "text": [
      "Accuracy score for alpha=0.01 is: 75.65%\n",
      "Accuracy score for alpha=0.02 is: 75.97%\n",
      "Accuracy score for alpha=0.03 is: 76.62%\n",
      "Accuracy score for alpha=0.04 is: 75.97%\n",
      "Accuracy score for alpha=0.05 is: 76.95%\n",
      "Accuracy score for alpha=0.06 is: 74.35%\n",
      "Accuracy score for alpha=0.07 is: 74.03%\n",
      "Accuracy score for alpha=0.08 is: 73.7%\n",
      "Accuracy score for alpha=0.09 is: 73.38%\n",
      "The best accuracy is 76.95% with alpha value as 0.05\n"
     ]
    }
   ],
   "source": [
    "best_accuracy = 0.0\n",
    "alpha_val = 0.0\n",
    "for i in np.arange(0.01,0.1,0.01):\n",
    "    temp_classifier = MultinomialNB(alpha=i)\n",
    "    temp_classifier.fit(X_train, y_train)\n",
    "    temp_y_pred = temp_classifier.predict(X_test)\n",
    "    score = accuracy_score(y_test, temp_y_pred)\n",
    "    print(\"Accuracy score for alpha={} is: {}%\".format(round(i,2), round(score*100,2)))\n",
    "    if score>best_accuracy:\n",
    "        best_accuracy = score\n",
    "        alpha_val = i\n",
    "print('The best accuracy is {}% with alpha value as {}'.format(round(best_accuracy*100, 2), round(alpha_val,2)))"
   ]
  },
  {
   "cell_type": "markdown",
   "id": "6dcb85c1",
   "metadata": {},
   "source": [
    "#### Best Accuracy is with hyperparameter 0.05"
   ]
  },
  {
   "cell_type": "code",
   "execution_count": 553,
   "id": "c54d39eb",
   "metadata": {},
   "outputs": [
    {
     "data": {
      "text/html": [
       "<style>#sk-container-id-13 {color: black;background-color: white;}#sk-container-id-13 pre{padding: 0;}#sk-container-id-13 div.sk-toggleable {background-color: white;}#sk-container-id-13 label.sk-toggleable__label {cursor: pointer;display: block;width: 100%;margin-bottom: 0;padding: 0.3em;box-sizing: border-box;text-align: center;}#sk-container-id-13 label.sk-toggleable__label-arrow:before {content: \"▸\";float: left;margin-right: 0.25em;color: #696969;}#sk-container-id-13 label.sk-toggleable__label-arrow:hover:before {color: black;}#sk-container-id-13 div.sk-estimator:hover label.sk-toggleable__label-arrow:before {color: black;}#sk-container-id-13 div.sk-toggleable__content {max-height: 0;max-width: 0;overflow: hidden;text-align: left;background-color: #f0f8ff;}#sk-container-id-13 div.sk-toggleable__content pre {margin: 0.2em;color: black;border-radius: 0.25em;background-color: #f0f8ff;}#sk-container-id-13 input.sk-toggleable__control:checked~div.sk-toggleable__content {max-height: 200px;max-width: 100%;overflow: auto;}#sk-container-id-13 input.sk-toggleable__control:checked~label.sk-toggleable__label-arrow:before {content: \"▾\";}#sk-container-id-13 div.sk-estimator input.sk-toggleable__control:checked~label.sk-toggleable__label {background-color: #d4ebff;}#sk-container-id-13 div.sk-label input.sk-toggleable__control:checked~label.sk-toggleable__label {background-color: #d4ebff;}#sk-container-id-13 input.sk-hidden--visually {border: 0;clip: rect(1px 1px 1px 1px);clip: rect(1px, 1px, 1px, 1px);height: 1px;margin: -1px;overflow: hidden;padding: 0;position: absolute;width: 1px;}#sk-container-id-13 div.sk-estimator {font-family: monospace;background-color: #f0f8ff;border: 1px dotted black;border-radius: 0.25em;box-sizing: border-box;margin-bottom: 0.5em;}#sk-container-id-13 div.sk-estimator:hover {background-color: #d4ebff;}#sk-container-id-13 div.sk-parallel-item::after {content: \"\";width: 100%;border-bottom: 1px solid gray;flex-grow: 1;}#sk-container-id-13 div.sk-label:hover label.sk-toggleable__label {background-color: #d4ebff;}#sk-container-id-13 div.sk-serial::before {content: \"\";position: absolute;border-left: 1px solid gray;box-sizing: border-box;top: 0;bottom: 0;left: 50%;z-index: 0;}#sk-container-id-13 div.sk-serial {display: flex;flex-direction: column;align-items: center;background-color: white;padding-right: 0.2em;padding-left: 0.2em;position: relative;}#sk-container-id-13 div.sk-item {position: relative;z-index: 1;}#sk-container-id-13 div.sk-parallel {display: flex;align-items: stretch;justify-content: center;background-color: white;position: relative;}#sk-container-id-13 div.sk-item::before, #sk-container-id-13 div.sk-parallel-item::before {content: \"\";position: absolute;border-left: 1px solid gray;box-sizing: border-box;top: 0;bottom: 0;left: 50%;z-index: -1;}#sk-container-id-13 div.sk-parallel-item {display: flex;flex-direction: column;z-index: 1;position: relative;background-color: white;}#sk-container-id-13 div.sk-parallel-item:first-child::after {align-self: flex-end;width: 50%;}#sk-container-id-13 div.sk-parallel-item:last-child::after {align-self: flex-start;width: 50%;}#sk-container-id-13 div.sk-parallel-item:only-child::after {width: 0;}#sk-container-id-13 div.sk-dashed-wrapped {border: 1px dashed gray;margin: 0 0.4em 0.5em 0.4em;box-sizing: border-box;padding-bottom: 0.4em;background-color: white;}#sk-container-id-13 div.sk-label label {font-family: monospace;font-weight: bold;display: inline-block;line-height: 1.2em;}#sk-container-id-13 div.sk-label-container {text-align: center;}#sk-container-id-13 div.sk-container {/* jupyter's `normalize.less` sets `[hidden] { display: none; }` but bootstrap.min.css set `[hidden] { display: none !important; }` so we also need the `!important` here to be able to override the default hidden behavior on the sphinx rendered scikit-learn.org. See: https://github.com/scikit-learn/scikit-learn/issues/21755 */display: inline-block !important;position: relative;}#sk-container-id-13 div.sk-text-repr-fallback {display: none;}</style><div id=\"sk-container-id-13\" class=\"sk-top-container\"><div class=\"sk-text-repr-fallback\"><pre>MultinomialNB(alpha=0.05)</pre><b>In a Jupyter environment, please rerun this cell to show the HTML representation or trust the notebook. <br />On GitHub, the HTML representation is unable to render, please try loading this page with nbviewer.org.</b></div><div class=\"sk-container\" hidden><div class=\"sk-item\"><div class=\"sk-estimator sk-toggleable\"><input class=\"sk-toggleable__control sk-hidden--visually\" id=\"sk-estimator-id-13\" type=\"checkbox\" checked><label for=\"sk-estimator-id-13\" class=\"sk-toggleable__label sk-toggleable__label-arrow\">MultinomialNB</label><div class=\"sk-toggleable__content\"><pre>MultinomialNB(alpha=0.05)</pre></div></div></div></div></div>"
      ],
      "text/plain": [
       "MultinomialNB(alpha=0.05)"
      ]
     },
     "execution_count": 553,
     "metadata": {},
     "output_type": "execute_result"
    }
   ],
   "source": [
    "nb_classifier = MultinomialNB(alpha=0.05)\n",
    "nb_classifier.fit(X_train, y_train)"
   ]
  },
  {
   "cell_type": "code",
   "execution_count": 554,
   "id": "32660d91",
   "metadata": {},
   "outputs": [],
   "source": [
    "y_pred = nb_classifier.predict(X_test)"
   ]
  },
  {
   "cell_type": "code",
   "execution_count": 555,
   "id": "77783cf3",
   "metadata": {},
   "outputs": [
    {
     "name": "stdout",
     "output_type": "stream",
     "text": [
      "Accuracy : 76.95%\n"
     ]
    }
   ],
   "source": [
    "score1 = accuracy_score(y_test, y_pred)\n",
    "print(\"Accuracy : {}%\".format(round(score1*100,2)))"
   ]
  },
  {
   "cell_type": "code",
   "execution_count": 556,
   "id": "6b0094aa",
   "metadata": {},
   "outputs": [
    {
     "name": "stdout",
     "output_type": "stream",
     "text": [
      "Report : \n",
      "              precision    recall  f1-score   support\n",
      "\n",
      "           0       0.67      0.80      0.73        15\n",
      "           1       0.67      0.17      0.28        23\n",
      "           2       0.79      0.75      0.77        20\n",
      "           3       0.70      0.30      0.42        23\n",
      "           4       0.91      0.77      0.83        13\n",
      "           5       0.50      0.17      0.25         6\n",
      "           6       0.94      0.80      0.86        20\n",
      "           7       0.82      0.64      0.72        22\n",
      "           8       0.70      0.98      0.82        90\n",
      "           9       0.84      0.92      0.88        76\n",
      "\n",
      "    accuracy                           0.77       308\n",
      "   macro avg       0.75      0.63      0.66       308\n",
      "weighted avg       0.77      0.77      0.74       308\n",
      "\n"
     ]
    }
   ],
   "source": [
    "print ('Report : ')                            # classification report.\n",
    "print(classification_report(y_test,y_pred))"
   ]
  },
  {
   "cell_type": "markdown",
   "id": "f5779f20",
   "metadata": {},
   "source": [
    "#### Using Support Vector Classification"
   ]
  },
  {
   "cell_type": "code",
   "execution_count": 557,
   "id": "d99e7ecb",
   "metadata": {},
   "outputs": [],
   "source": [
    "from sklearn import svm\n",
    "svc = svm.SVC(kernel='linear').fit(X_train,y_train)\n",
    "svpred=svc.predict(X_test)"
   ]
  },
  {
   "cell_type": "code",
   "execution_count": 558,
   "id": "83e1d1d9",
   "metadata": {},
   "outputs": [
    {
     "name": "stdout",
     "output_type": "stream",
     "text": [
      "Accuracy : 74.35%\n"
     ]
    }
   ],
   "source": [
    "score1 = accuracy_score(y_test, svpred)\n",
    "print(\"Accuracy : {}%\".format(round(score1*100,2)))"
   ]
  },
  {
   "cell_type": "code",
   "execution_count": 559,
   "id": "63a25a76",
   "metadata": {},
   "outputs": [
    {
     "name": "stdout",
     "output_type": "stream",
     "text": [
      "Report : \n",
      "              precision    recall  f1-score   support\n",
      "\n",
      "           0       1.00      0.67      0.80        15\n",
      "           1       1.00      0.22      0.36        23\n",
      "           2       0.93      0.65      0.76        20\n",
      "           3       0.57      0.17      0.27        23\n",
      "           4       0.92      0.85      0.88        13\n",
      "           5       1.00      0.17      0.29         6\n",
      "           6       1.00      0.70      0.82        20\n",
      "           7       0.94      0.68      0.79        22\n",
      "           8       0.63      0.99      0.77        90\n",
      "           9       0.76      0.88      0.82        76\n",
      "\n",
      "    accuracy                           0.74       308\n",
      "   macro avg       0.87      0.60      0.66       308\n",
      "weighted avg       0.79      0.74      0.71       308\n",
      "\n"
     ]
    }
   ],
   "source": [
    "print ('Report : ')                            # classification report.\n",
    "print(classification_report(y_test,svpred))"
   ]
  },
  {
   "cell_type": "markdown",
   "id": "f38304af",
   "metadata": {},
   "source": [
    "#### We will use MultinominalNB model to predict the genre"
   ]
  },
  {
   "cell_type": "code",
   "execution_count": 560,
   "id": "101f89e6",
   "metadata": {},
   "outputs": [
    {
     "name": "stdout",
     "output_type": "stream",
     "text": [
      "Original - thriller\n",
      "Predicted - thriller\n",
      "\n",
      "\n",
      "Original - thriller\n",
      "Predicted - thriller\n",
      "\n",
      "\n",
      "Original - science\n",
      "Predicted - history\n",
      "\n",
      "\n",
      "Original - fantasy\n",
      "Predicted - romance\n",
      "\n",
      "\n",
      "Original - fantasy\n",
      "Predicted - psychology\n",
      "\n",
      "\n",
      "Original - horror\n",
      "Predicted - thriller\n",
      "\n",
      "\n",
      "Original - science\n",
      "Predicted - thriller\n",
      "\n",
      "\n",
      "Original - psychology\n",
      "Predicted - thriller\n",
      "\n",
      "\n",
      "Original - science\n",
      "Predicted - thriller\n",
      "\n",
      "\n",
      "Original - science\n",
      "Predicted - thriller\n",
      "\n",
      "\n",
      "Original - thriller\n",
      "Predicted - thriller\n",
      "\n",
      "\n",
      "Original - thriller\n",
      "Predicted - thriller\n",
      "\n",
      "\n",
      "Original - thriller\n",
      "Predicted - fantasy\n",
      "\n",
      "\n",
      "Original - romance\n",
      "Predicted - thriller\n",
      "\n",
      "\n",
      "Original - history\n",
      "Predicted - fantasy\n",
      "\n",
      "\n",
      "Original - thriller\n",
      "Predicted - horror\n",
      "\n",
      "\n",
      "Original - travel\n",
      "Predicted - fantasy\n",
      "\n",
      "\n",
      "Original - thriller\n",
      "Predicted - fantasy\n",
      "\n",
      "\n",
      "Original - thriller\n",
      "Predicted - thriller\n",
      "\n",
      "\n",
      "Original - fantasy\n",
      "Predicted - thriller\n",
      "\n",
      "\n"
     ]
    }
   ],
   "source": [
    "def genre_prediction(sample_script):\n",
    "    return nb_classifier.predict(sample_script)\n",
    "\n",
    "for i in range(20): \n",
    "    rn = random.randint(0,307)\n",
    "    ans = genre_prediction(X_test[rn].reshape(1, -1))\n",
    "    \n",
    "    # Genrating the genre name from genre_mapper dictionary that we build above\n",
    "    print(\"Original -\", list(genre_mapper.keys())[list(genre_mapper.values()).index(int(y_train[rn]))])\n",
    "    print(\"Predicted -\", list(genre_mapper.keys())[list(genre_mapper.values()).index(int(ans))])   \n",
    "    print(\"\\n\")\n",
    "\n"
   ]
  },
  {
   "cell_type": "markdown",
   "id": "c114ce5a",
   "metadata": {},
   "source": [
    "# Predict the Rating"
   ]
  },
  {
   "cell_type": "code",
   "execution_count": 582,
   "id": "e8225b04",
   "metadata": {},
   "outputs": [],
   "source": [
    "from sklearn.linear_model import LinearRegression\n",
    "from sklearn import metrics\n",
    "from sklearn import preprocessing\n",
    "from sklearn.ensemble import RandomForestRegressor"
   ]
  },
  {
   "cell_type": "code",
   "execution_count": 561,
   "id": "83f70b35",
   "metadata": {},
   "outputs": [
    {
     "data": {
      "text/plain": [
       "Index(['title', 'rating', 'name', 'num_ratings', 'num_reviews',\n",
       "       'num_followers', 'synopsis', 'genre'],\n",
       "      dtype='object')"
      ]
     },
     "execution_count": 561,
     "metadata": {},
     "output_type": "execute_result"
    }
   ],
   "source": [
    "df2.columns"
   ]
  },
  {
   "cell_type": "markdown",
   "id": "802a7af1",
   "metadata": {},
   "source": [
    "#### Data Preprocesssing\n",
    "Anomaly Detection"
   ]
  },
  {
   "cell_type": "code",
   "execution_count": 562,
   "id": "bdd830d2",
   "metadata": {},
   "outputs": [
    {
     "data": {
      "text/plain": [
       "842"
      ]
     },
     "execution_count": 562,
     "metadata": {},
     "output_type": "execute_result"
    }
   ],
   "source": [
    "df2['name'].nunique()"
   ]
  },
  {
   "cell_type": "code",
   "execution_count": 563,
   "id": "b8701336",
   "metadata": {},
   "outputs": [
    {
     "data": {
      "text/plain": [
       "<AxesSubplot: xlabel='num_ratings'>"
      ]
     },
     "execution_count": 563,
     "metadata": {},
     "output_type": "execute_result"
    },
    {
     "data": {
      "image/png": "[encoded data removed]",
      "text/plain": [
       "<Figure size 640x480 with 1 Axes>"
      ]
     },
     "metadata": {},
     "output_type": "display_data"
    }
   ],
   "source": [
    "sns.boxplot(x=df2['num_ratings'])"
   ]
  },
  {
   "cell_type": "code",
   "execution_count": 564,
   "id": "8511f848",
   "metadata": {},
   "outputs": [],
   "source": [
    "df2 = df2.drop(df2.index[df2['num_ratings'] >= 1000000])"
   ]
  },
  {
   "cell_type": "code",
   "execution_count": 565,
   "id": "73650bee",
   "metadata": {},
   "outputs": [
    {
     "data": {
      "text/plain": [
       "<AxesSubplot: xlabel='num_reviews'>"
      ]
     },
     "execution_count": 565,
     "metadata": {},
     "output_type": "execute_result"
    },
    {
     "data": {
      "image/png": "[encoded data removed]",
      "text/plain": [
       "<Figure size 640x480 with 1 Axes>"
      ]
     },
     "metadata": {},
     "output_type": "display_data"
    }
   ],
   "source": [
    "sns.boxplot(x=df2['num_reviews'])"
   ]
  },
  {
   "cell_type": "code",
   "execution_count": 566,
   "id": "13eb384a",
   "metadata": {},
   "outputs": [],
   "source": [
    "df2 = df2.drop(df2.index[df2['num_reviews'] >= 40000])"
   ]
  },
  {
   "cell_type": "code",
   "execution_count": 567,
   "id": "62bd8fd1",
   "metadata": {},
   "outputs": [
    {
     "data": {
      "text/plain": [
       "<AxesSubplot: xlabel='num_followers'>"
      ]
     },
     "execution_count": 567,
     "metadata": {},
     "output_type": "execute_result"
    },
    {
     "data": {
      "image/png": "[encoded data removed]",
      "text/plain": [
       "<Figure size 640x480 with 1 Axes>"
      ]
     },
     "metadata": {},
     "output_type": "display_data"
    }
   ],
   "source": [
    "sns.boxplot(x=df2['num_followers'])"
   ]
  },
  {
   "cell_type": "code",
   "execution_count": 568,
   "id": "ad8222ce",
   "metadata": {},
   "outputs": [],
   "source": [
    "df2 = df2.drop(df2.index[df2['num_followers'] >= 100000])"
   ]
  },
  {
   "cell_type": "code",
   "execution_count": 569,
   "id": "7eb40c63",
   "metadata": {},
   "outputs": [],
   "source": [
    "cols = pd.get_dummies(df2['genre'])"
   ]
  },
  {
   "cell_type": "code",
   "execution_count": 570,
   "id": "467212b3",
   "metadata": {},
   "outputs": [
    {
     "data": {
      "text/html": [
       "<div>\n",
       "<style scoped>\n",
       "    .dataframe tbody tr th:only-of-type {\n",
       "        vertical-align: middle;\n",
       "    }\n",
       "\n",
       "    .dataframe tbody tr th {\n",
       "        vertical-align: top;\n",
       "    }\n",
       "\n",
       "    .dataframe thead th {\n",
       "        text-align: right;\n",
       "    }\n",
       "</style>\n",
       "<table border=\"1\" class=\"dataframe\">\n",
       "  <thead>\n",
       "    <tr style=\"text-align: right;\">\n",
       "      <th></th>\n",
       "      <th>fantasy</th>\n",
       "      <th>history</th>\n",
       "      <th>horror</th>\n",
       "      <th>psychology</th>\n",
       "      <th>romance</th>\n",
       "      <th>science</th>\n",
       "      <th>science_fiction</th>\n",
       "      <th>sports</th>\n",
       "      <th>thriller</th>\n",
       "      <th>travel</th>\n",
       "    </tr>\n",
       "  </thead>\n",
       "  <tbody>\n",
       "    <tr>\n",
       "      <th>1</th>\n",
       "      <td>0</td>\n",
       "      <td>1</td>\n",
       "      <td>0</td>\n",
       "      <td>0</td>\n",
       "      <td>0</td>\n",
       "      <td>0</td>\n",
       "      <td>0</td>\n",
       "      <td>0</td>\n",
       "      <td>0</td>\n",
       "      <td>0</td>\n",
       "    </tr>\n",
       "    <tr>\n",
       "      <th>2</th>\n",
       "      <td>0</td>\n",
       "      <td>1</td>\n",
       "      <td>0</td>\n",
       "      <td>0</td>\n",
       "      <td>0</td>\n",
       "      <td>0</td>\n",
       "      <td>0</td>\n",
       "      <td>0</td>\n",
       "      <td>0</td>\n",
       "      <td>0</td>\n",
       "    </tr>\n",
       "    <tr>\n",
       "      <th>3</th>\n",
       "      <td>0</td>\n",
       "      <td>1</td>\n",
       "      <td>0</td>\n",
       "      <td>0</td>\n",
       "      <td>0</td>\n",
       "      <td>0</td>\n",
       "      <td>0</td>\n",
       "      <td>0</td>\n",
       "      <td>0</td>\n",
       "      <td>0</td>\n",
       "    </tr>\n",
       "    <tr>\n",
       "      <th>5</th>\n",
       "      <td>0</td>\n",
       "      <td>1</td>\n",
       "      <td>0</td>\n",
       "      <td>0</td>\n",
       "      <td>0</td>\n",
       "      <td>0</td>\n",
       "      <td>0</td>\n",
       "      <td>0</td>\n",
       "      <td>0</td>\n",
       "      <td>0</td>\n",
       "    </tr>\n",
       "    <tr>\n",
       "      <th>6</th>\n",
       "      <td>0</td>\n",
       "      <td>1</td>\n",
       "      <td>0</td>\n",
       "      <td>0</td>\n",
       "      <td>0</td>\n",
       "      <td>0</td>\n",
       "      <td>0</td>\n",
       "      <td>0</td>\n",
       "      <td>0</td>\n",
       "      <td>0</td>\n",
       "    </tr>\n",
       "    <tr>\n",
       "      <th>...</th>\n",
       "      <td>...</td>\n",
       "      <td>...</td>\n",
       "      <td>...</td>\n",
       "      <td>...</td>\n",
       "      <td>...</td>\n",
       "      <td>...</td>\n",
       "      <td>...</td>\n",
       "      <td>...</td>\n",
       "      <td>...</td>\n",
       "      <td>...</td>\n",
       "    </tr>\n",
       "    <tr>\n",
       "      <th>1534</th>\n",
       "      <td>1</td>\n",
       "      <td>0</td>\n",
       "      <td>0</td>\n",
       "      <td>0</td>\n",
       "      <td>0</td>\n",
       "      <td>0</td>\n",
       "      <td>0</td>\n",
       "      <td>0</td>\n",
       "      <td>0</td>\n",
       "      <td>0</td>\n",
       "    </tr>\n",
       "    <tr>\n",
       "      <th>1535</th>\n",
       "      <td>1</td>\n",
       "      <td>0</td>\n",
       "      <td>0</td>\n",
       "      <td>0</td>\n",
       "      <td>0</td>\n",
       "      <td>0</td>\n",
       "      <td>0</td>\n",
       "      <td>0</td>\n",
       "      <td>0</td>\n",
       "      <td>0</td>\n",
       "    </tr>\n",
       "    <tr>\n",
       "      <th>1536</th>\n",
       "      <td>1</td>\n",
       "      <td>0</td>\n",
       "      <td>0</td>\n",
       "      <td>0</td>\n",
       "      <td>0</td>\n",
       "      <td>0</td>\n",
       "      <td>0</td>\n",
       "      <td>0</td>\n",
       "      <td>0</td>\n",
       "      <td>0</td>\n",
       "    </tr>\n",
       "    <tr>\n",
       "      <th>1537</th>\n",
       "      <td>1</td>\n",
       "      <td>0</td>\n",
       "      <td>0</td>\n",
       "      <td>0</td>\n",
       "      <td>0</td>\n",
       "      <td>0</td>\n",
       "      <td>0</td>\n",
       "      <td>0</td>\n",
       "      <td>0</td>\n",
       "      <td>0</td>\n",
       "    </tr>\n",
       "    <tr>\n",
       "      <th>1538</th>\n",
       "      <td>1</td>\n",
       "      <td>0</td>\n",
       "      <td>0</td>\n",
       "      <td>0</td>\n",
       "      <td>0</td>\n",
       "      <td>0</td>\n",
       "      <td>0</td>\n",
       "      <td>0</td>\n",
       "      <td>0</td>\n",
       "      <td>0</td>\n",
       "    </tr>\n",
       "  </tbody>\n",
       "</table>\n",
       "<p>1275 rows × 10 columns</p>\n",
       "</div>"
      ],
      "text/plain": [
       "      fantasy  history  horror  psychology  romance  science  science_fiction  \\\n",
       "1           0        1       0           0        0        0                0   \n",
       "2           0        1       0           0        0        0                0   \n",
       "3           0        1       0           0        0        0                0   \n",
       "5           0        1       0           0        0        0                0   \n",
       "6           0        1       0           0        0        0                0   \n",
       "...       ...      ...     ...         ...      ...      ...              ...   \n",
       "1534        1        0       0           0        0        0                0   \n",
       "1535        1        0       0           0        0        0                0   \n",
       "1536        1        0       0           0        0        0                0   \n",
       "1537        1        0       0           0        0        0                0   \n",
       "1538        1        0       0           0        0        0                0   \n",
       "\n",
       "      sports  thriller  travel  \n",
       "1          0         0       0  \n",
       "2          0         0       0  \n",
       "3          0         0       0  \n",
       "5          0         0       0  \n",
       "6          0         0       0  \n",
       "...      ...       ...     ...  \n",
       "1534       0         0       0  \n",
       "1535       0         0       0  \n",
       "1536       0         0       0  \n",
       "1537       0         0       0  \n",
       "1538       0         0       0  \n",
       "\n",
       "[1275 rows x 10 columns]"
      ]
     },
     "execution_count": 570,
     "metadata": {},
     "output_type": "execute_result"
    }
   ],
   "source": [
    "cols"
   ]
  },
  {
   "cell_type": "code",
   "execution_count": 571,
   "id": "f61384c9",
   "metadata": {
    "scrolled": true
   },
   "outputs": [
    {
     "data": {
      "text/html": [
       "<div>\n",
       "<style scoped>\n",
       "    .dataframe tbody tr th:only-of-type {\n",
       "        vertical-align: middle;\n",
       "    }\n",
       "\n",
       "    .dataframe tbody tr th {\n",
       "        vertical-align: top;\n",
       "    }\n",
       "\n",
       "    .dataframe thead th {\n",
       "        text-align: right;\n",
       "    }\n",
       "</style>\n",
       "<table border=\"1\" class=\"dataframe\">\n",
       "  <thead>\n",
       "    <tr style=\"text-align: right;\">\n",
       "      <th></th>\n",
       "      <th>title</th>\n",
       "      <th>rating</th>\n",
       "      <th>name</th>\n",
       "      <th>num_ratings</th>\n",
       "      <th>num_reviews</th>\n",
       "      <th>num_followers</th>\n",
       "      <th>synopsis</th>\n",
       "      <th>genre</th>\n",
       "      <th>fantasy</th>\n",
       "      <th>history</th>\n",
       "      <th>horror</th>\n",
       "      <th>psychology</th>\n",
       "      <th>romance</th>\n",
       "      <th>science</th>\n",
       "      <th>science_fiction</th>\n",
       "      <th>sports</th>\n",
       "      <th>thriller</th>\n",
       "      <th>travel</th>\n",
       "    </tr>\n",
       "  </thead>\n",
       "  <tbody>\n",
       "    <tr>\n",
       "      <th>1</th>\n",
       "      <td>Guns, Germs, and Steel: The Fates of Human Soc...</td>\n",
       "      <td>4.04</td>\n",
       "      <td>Jared Diamond</td>\n",
       "      <td>367056</td>\n",
       "      <td>12879</td>\n",
       "      <td>6538</td>\n",
       "      <td>\"Diamond has written a book of remarkable scop...</td>\n",
       "      <td>history</td>\n",
       "      <td>0</td>\n",
       "      <td>1</td>\n",
       "      <td>0</td>\n",
       "      <td>0</td>\n",
       "      <td>0</td>\n",
       "      <td>0</td>\n",
       "      <td>0</td>\n",
       "      <td>0</td>\n",
       "      <td>0</td>\n",
       "      <td>0</td>\n",
       "    </tr>\n",
       "    <tr>\n",
       "      <th>2</th>\n",
       "      <td>A People's History of the United States</td>\n",
       "      <td>4.07</td>\n",
       "      <td>Howard Zinn</td>\n",
       "      <td>224620</td>\n",
       "      <td>6509</td>\n",
       "      <td>2354</td>\n",
       "      <td>In the book, Zinn presented a different side o...</td>\n",
       "      <td>history</td>\n",
       "      <td>0</td>\n",
       "      <td>1</td>\n",
       "      <td>0</td>\n",
       "      <td>0</td>\n",
       "      <td>0</td>\n",
       "      <td>0</td>\n",
       "      <td>0</td>\n",
       "      <td>0</td>\n",
       "      <td>0</td>\n",
       "      <td>0</td>\n",
       "    </tr>\n",
       "    <tr>\n",
       "      <th>3</th>\n",
       "      <td>The Devil in the White City: Murder, Magic, an...</td>\n",
       "      <td>3.99</td>\n",
       "      <td>Erik Larson</td>\n",
       "      <td>613157</td>\n",
       "      <td>36644</td>\n",
       "      <td>642</td>\n",
       "      <td>Author Erik Larson imbues the incredible event...</td>\n",
       "      <td>history</td>\n",
       "      <td>0</td>\n",
       "      <td>1</td>\n",
       "      <td>0</td>\n",
       "      <td>0</td>\n",
       "      <td>0</td>\n",
       "      <td>0</td>\n",
       "      <td>0</td>\n",
       "      <td>0</td>\n",
       "      <td>0</td>\n",
       "      <td>0</td>\n",
       "    </tr>\n",
       "    <tr>\n",
       "      <th>5</th>\n",
       "      <td>1776</td>\n",
       "      <td>4.08</td>\n",
       "      <td>David McCullough</td>\n",
       "      <td>214796</td>\n",
       "      <td>7910</td>\n",
       "      <td>9137</td>\n",
       "      <td>In this masterful book, David McCullough tells...</td>\n",
       "      <td>history</td>\n",
       "      <td>0</td>\n",
       "      <td>1</td>\n",
       "      <td>0</td>\n",
       "      <td>0</td>\n",
       "      <td>0</td>\n",
       "      <td>0</td>\n",
       "      <td>0</td>\n",
       "      <td>0</td>\n",
       "      <td>0</td>\n",
       "      <td>0</td>\n",
       "    </tr>\n",
       "    <tr>\n",
       "      <th>6</th>\n",
       "      <td>A Short History of Nearly Everything</td>\n",
       "      <td>4.20</td>\n",
       "      <td>Bill Bryson</td>\n",
       "      <td>352894</td>\n",
       "      <td>14428</td>\n",
       "      <td>183</td>\n",
       "      <td>Bill Bryson describes himself as a reluctant t...</td>\n",
       "      <td>history</td>\n",
       "      <td>0</td>\n",
       "      <td>1</td>\n",
       "      <td>0</td>\n",
       "      <td>0</td>\n",
       "      <td>0</td>\n",
       "      <td>0</td>\n",
       "      <td>0</td>\n",
       "      <td>0</td>\n",
       "      <td>0</td>\n",
       "      <td>0</td>\n",
       "    </tr>\n",
       "    <tr>\n",
       "      <th>...</th>\n",
       "      <td>...</td>\n",
       "      <td>...</td>\n",
       "      <td>...</td>\n",
       "      <td>...</td>\n",
       "      <td>...</td>\n",
       "      <td>...</td>\n",
       "      <td>...</td>\n",
       "      <td>...</td>\n",
       "      <td>...</td>\n",
       "      <td>...</td>\n",
       "      <td>...</td>\n",
       "      <td>...</td>\n",
       "      <td>...</td>\n",
       "      <td>...</td>\n",
       "      <td>...</td>\n",
       "      <td>...</td>\n",
       "      <td>...</td>\n",
       "      <td>...</td>\n",
       "    </tr>\n",
       "    <tr>\n",
       "      <th>1534</th>\n",
       "      <td>Hounded</td>\n",
       "      <td>4.09</td>\n",
       "      <td>Kevin Hearne</td>\n",
       "      <td>83827</td>\n",
       "      <td>7203</td>\n",
       "      <td>11905</td>\n",
       "      <td>Atticus O’Sullivan, last of the Druids, lives ...</td>\n",
       "      <td>fantasy</td>\n",
       "      <td>1</td>\n",
       "      <td>0</td>\n",
       "      <td>0</td>\n",
       "      <td>0</td>\n",
       "      <td>0</td>\n",
       "      <td>0</td>\n",
       "      <td>0</td>\n",
       "      <td>0</td>\n",
       "      <td>0</td>\n",
       "      <td>0</td>\n",
       "    </tr>\n",
       "    <tr>\n",
       "      <th>1535</th>\n",
       "      <td>Charlie and the Chocolate Factory</td>\n",
       "      <td>4.15</td>\n",
       "      <td>Roald Dahl</td>\n",
       "      <td>775001</td>\n",
       "      <td>14252</td>\n",
       "      <td>22897</td>\n",
       "      <td>Charlie Bucket's wonderful adventure begins wh...</td>\n",
       "      <td>fantasy</td>\n",
       "      <td>1</td>\n",
       "      <td>0</td>\n",
       "      <td>0</td>\n",
       "      <td>0</td>\n",
       "      <td>0</td>\n",
       "      <td>0</td>\n",
       "      <td>0</td>\n",
       "      <td>0</td>\n",
       "      <td>0</td>\n",
       "      <td>0</td>\n",
       "    </tr>\n",
       "    <tr>\n",
       "      <th>1536</th>\n",
       "      <td>Red Rising</td>\n",
       "      <td>4.25</td>\n",
       "      <td>Pierce Brown</td>\n",
       "      <td>310138</td>\n",
       "      <td>30388</td>\n",
       "      <td>30510</td>\n",
       "      <td>\"I live for the dream that my children will be...</td>\n",
       "      <td>fantasy</td>\n",
       "      <td>1</td>\n",
       "      <td>0</td>\n",
       "      <td>0</td>\n",
       "      <td>0</td>\n",
       "      <td>0</td>\n",
       "      <td>0</td>\n",
       "      <td>0</td>\n",
       "      <td>0</td>\n",
       "      <td>0</td>\n",
       "      <td>0</td>\n",
       "    </tr>\n",
       "    <tr>\n",
       "      <th>1537</th>\n",
       "      <td>Frostbite</td>\n",
       "      <td>4.26</td>\n",
       "      <td>Richelle Mead</td>\n",
       "      <td>337538</td>\n",
       "      <td>12435</td>\n",
       "      <td>66448</td>\n",
       "      <td>Rose loves Dimitri, Dimitri might love Tasha, ...</td>\n",
       "      <td>fantasy</td>\n",
       "      <td>1</td>\n",
       "      <td>0</td>\n",
       "      <td>0</td>\n",
       "      <td>0</td>\n",
       "      <td>0</td>\n",
       "      <td>0</td>\n",
       "      <td>0</td>\n",
       "      <td>0</td>\n",
       "      <td>0</td>\n",
       "      <td>0</td>\n",
       "    </tr>\n",
       "    <tr>\n",
       "      <th>1538</th>\n",
       "      <td>Radiance</td>\n",
       "      <td>4.03</td>\n",
       "      <td>Grace Draven</td>\n",
       "      <td>50102</td>\n",
       "      <td>5550</td>\n",
       "      <td>6090</td>\n",
       "      <td>The Prince of no value\\nBrishen Khaskem, princ...</td>\n",
       "      <td>fantasy</td>\n",
       "      <td>1</td>\n",
       "      <td>0</td>\n",
       "      <td>0</td>\n",
       "      <td>0</td>\n",
       "      <td>0</td>\n",
       "      <td>0</td>\n",
       "      <td>0</td>\n",
       "      <td>0</td>\n",
       "      <td>0</td>\n",
       "      <td>0</td>\n",
       "    </tr>\n",
       "  </tbody>\n",
       "</table>\n",
       "<p>1275 rows × 18 columns</p>\n",
       "</div>"
      ],
      "text/plain": [
       "                                                  title  rating  \\\n",
       "1     Guns, Germs, and Steel: The Fates of Human Soc...    4.04   \n",
       "2               A People's History of the United States    4.07   \n",
       "3     The Devil in the White City: Murder, Magic, an...    3.99   \n",
       "5                                                  1776    4.08   \n",
       "6                  A Short History of Nearly Everything    4.20   \n",
       "...                                                 ...     ...   \n",
       "1534                                            Hounded    4.09   \n",
       "1535                  Charlie and the Chocolate Factory    4.15   \n",
       "1536                                         Red Rising    4.25   \n",
       "1537                                          Frostbite    4.26   \n",
       "1538                                           Radiance    4.03   \n",
       "\n",
       "                  name  num_ratings  num_reviews  num_followers  \\\n",
       "1        Jared Diamond       367056        12879           6538   \n",
       "2          Howard Zinn       224620         6509           2354   \n",
       "3          Erik Larson       613157        36644            642   \n",
       "5     David McCullough       214796         7910           9137   \n",
       "6          Bill Bryson       352894        14428            183   \n",
       "...                ...          ...          ...            ...   \n",
       "1534      Kevin Hearne        83827         7203          11905   \n",
       "1535        Roald Dahl       775001        14252          22897   \n",
       "1536      Pierce Brown       310138        30388          30510   \n",
       "1537     Richelle Mead       337538        12435          66448   \n",
       "1538      Grace Draven        50102         5550           6090   \n",
       "\n",
       "                                               synopsis    genre  fantasy  \\\n",
       "1     \"Diamond has written a book of remarkable scop...  history        0   \n",
       "2     In the book, Zinn presented a different side o...  history        0   \n",
       "3     Author Erik Larson imbues the incredible event...  history        0   \n",
       "5     In this masterful book, David McCullough tells...  history        0   \n",
       "6     Bill Bryson describes himself as a reluctant t...  history        0   \n",
       "...                                                 ...      ...      ...   \n",
       "1534  Atticus O’Sullivan, last of the Druids, lives ...  fantasy        1   \n",
       "1535  Charlie Bucket's wonderful adventure begins wh...  fantasy        1   \n",
       "1536  \"I live for the dream that my children will be...  fantasy        1   \n",
       "1537  Rose loves Dimitri, Dimitri might love Tasha, ...  fantasy        1   \n",
       "1538  The Prince of no value\\nBrishen Khaskem, princ...  fantasy        1   \n",
       "\n",
       "      history  horror  psychology  romance  science  science_fiction  sports  \\\n",
       "1           1       0           0        0        0                0       0   \n",
       "2           1       0           0        0        0                0       0   \n",
       "3           1       0           0        0        0                0       0   \n",
       "5           1       0           0        0        0                0       0   \n",
       "6           1       0           0        0        0                0       0   \n",
       "...       ...     ...         ...      ...      ...              ...     ...   \n",
       "1534        0       0           0        0        0                0       0   \n",
       "1535        0       0           0        0        0                0       0   \n",
       "1536        0       0           0        0        0                0       0   \n",
       "1537        0       0           0        0        0                0       0   \n",
       "1538        0       0           0        0        0                0       0   \n",
       "\n",
       "      thriller  travel  \n",
       "1            0       0  \n",
       "2            0       0  \n",
       "3            0       0  \n",
       "5            0       0  \n",
       "6            0       0  \n",
       "...        ...     ...  \n",
       "1534         0       0  \n",
       "1535         0       0  \n",
       "1536         0       0  \n",
       "1537         0       0  \n",
       "1538         0       0  \n",
       "\n",
       "[1275 rows x 18 columns]"
      ]
     },
     "execution_count": 571,
     "metadata": {},
     "output_type": "execute_result"
    }
   ],
   "source": [
    "df2 = pd.concat([df2, cols] ,axis=1)\n",
    "df2"
   ]
  },
  {
   "cell_type": "code",
   "execution_count": 572,
   "id": "e124fa80",
   "metadata": {},
   "outputs": [
    {
     "data": {
      "text/html": [
       "<div>\n",
       "<style scoped>\n",
       "    .dataframe tbody tr th:only-of-type {\n",
       "        vertical-align: middle;\n",
       "    }\n",
       "\n",
       "    .dataframe tbody tr th {\n",
       "        vertical-align: top;\n",
       "    }\n",
       "\n",
       "    .dataframe thead th {\n",
       "        text-align: right;\n",
       "    }\n",
       "</style>\n",
       "<table border=\"1\" class=\"dataframe\">\n",
       "  <thead>\n",
       "    <tr style=\"text-align: right;\">\n",
       "      <th></th>\n",
       "      <th>num_ratings</th>\n",
       "      <th>num_reviews</th>\n",
       "      <th>num_followers</th>\n",
       "      <th>fantasy</th>\n",
       "      <th>history</th>\n",
       "      <th>horror</th>\n",
       "      <th>psychology</th>\n",
       "      <th>romance</th>\n",
       "      <th>science</th>\n",
       "      <th>science_fiction</th>\n",
       "      <th>sports</th>\n",
       "      <th>thriller</th>\n",
       "      <th>travel</th>\n",
       "    </tr>\n",
       "  </thead>\n",
       "  <tbody>\n",
       "    <tr>\n",
       "      <th>1</th>\n",
       "      <td>367056</td>\n",
       "      <td>12879</td>\n",
       "      <td>6538</td>\n",
       "      <td>0</td>\n",
       "      <td>1</td>\n",
       "      <td>0</td>\n",
       "      <td>0</td>\n",
       "      <td>0</td>\n",
       "      <td>0</td>\n",
       "      <td>0</td>\n",
       "      <td>0</td>\n",
       "      <td>0</td>\n",
       "      <td>0</td>\n",
       "    </tr>\n",
       "    <tr>\n",
       "      <th>2</th>\n",
       "      <td>224620</td>\n",
       "      <td>6509</td>\n",
       "      <td>2354</td>\n",
       "      <td>0</td>\n",
       "      <td>1</td>\n",
       "      <td>0</td>\n",
       "      <td>0</td>\n",
       "      <td>0</td>\n",
       "      <td>0</td>\n",
       "      <td>0</td>\n",
       "      <td>0</td>\n",
       "      <td>0</td>\n",
       "      <td>0</td>\n",
       "    </tr>\n",
       "    <tr>\n",
       "      <th>3</th>\n",
       "      <td>613157</td>\n",
       "      <td>36644</td>\n",
       "      <td>642</td>\n",
       "      <td>0</td>\n",
       "      <td>1</td>\n",
       "      <td>0</td>\n",
       "      <td>0</td>\n",
       "      <td>0</td>\n",
       "      <td>0</td>\n",
       "      <td>0</td>\n",
       "      <td>0</td>\n",
       "      <td>0</td>\n",
       "      <td>0</td>\n",
       "    </tr>\n",
       "    <tr>\n",
       "      <th>5</th>\n",
       "      <td>214796</td>\n",
       "      <td>7910</td>\n",
       "      <td>9137</td>\n",
       "      <td>0</td>\n",
       "      <td>1</td>\n",
       "      <td>0</td>\n",
       "      <td>0</td>\n",
       "      <td>0</td>\n",
       "      <td>0</td>\n",
       "      <td>0</td>\n",
       "      <td>0</td>\n",
       "      <td>0</td>\n",
       "      <td>0</td>\n",
       "    </tr>\n",
       "    <tr>\n",
       "      <th>6</th>\n",
       "      <td>352894</td>\n",
       "      <td>14428</td>\n",
       "      <td>183</td>\n",
       "      <td>0</td>\n",
       "      <td>1</td>\n",
       "      <td>0</td>\n",
       "      <td>0</td>\n",
       "      <td>0</td>\n",
       "      <td>0</td>\n",
       "      <td>0</td>\n",
       "      <td>0</td>\n",
       "      <td>0</td>\n",
       "      <td>0</td>\n",
       "    </tr>\n",
       "    <tr>\n",
       "      <th>...</th>\n",
       "      <td>...</td>\n",
       "      <td>...</td>\n",
       "      <td>...</td>\n",
       "      <td>...</td>\n",
       "      <td>...</td>\n",
       "      <td>...</td>\n",
       "      <td>...</td>\n",
       "      <td>...</td>\n",
       "      <td>...</td>\n",
       "      <td>...</td>\n",
       "      <td>...</td>\n",
       "      <td>...</td>\n",
       "      <td>...</td>\n",
       "    </tr>\n",
       "    <tr>\n",
       "      <th>1534</th>\n",
       "      <td>83827</td>\n",
       "      <td>7203</td>\n",
       "      <td>11905</td>\n",
       "      <td>1</td>\n",
       "      <td>0</td>\n",
       "      <td>0</td>\n",
       "      <td>0</td>\n",
       "      <td>0</td>\n",
       "      <td>0</td>\n",
       "      <td>0</td>\n",
       "      <td>0</td>\n",
       "      <td>0</td>\n",
       "      <td>0</td>\n",
       "    </tr>\n",
       "    <tr>\n",
       "      <th>1535</th>\n",
       "      <td>775001</td>\n",
       "      <td>14252</td>\n",
       "      <td>22897</td>\n",
       "      <td>1</td>\n",
       "      <td>0</td>\n",
       "      <td>0</td>\n",
       "      <td>0</td>\n",
       "      <td>0</td>\n",
       "      <td>0</td>\n",
       "      <td>0</td>\n",
       "      <td>0</td>\n",
       "      <td>0</td>\n",
       "      <td>0</td>\n",
       "    </tr>\n",
       "    <tr>\n",
       "      <th>1536</th>\n",
       "      <td>310138</td>\n",
       "      <td>30388</td>\n",
       "      <td>30510</td>\n",
       "      <td>1</td>\n",
       "      <td>0</td>\n",
       "      <td>0</td>\n",
       "      <td>0</td>\n",
       "      <td>0</td>\n",
       "      <td>0</td>\n",
       "      <td>0</td>\n",
       "      <td>0</td>\n",
       "      <td>0</td>\n",
       "      <td>0</td>\n",
       "    </tr>\n",
       "    <tr>\n",
       "      <th>1537</th>\n",
       "      <td>337538</td>\n",
       "      <td>12435</td>\n",
       "      <td>66448</td>\n",
       "      <td>1</td>\n",
       "      <td>0</td>\n",
       "      <td>0</td>\n",
       "      <td>0</td>\n",
       "      <td>0</td>\n",
       "      <td>0</td>\n",
       "      <td>0</td>\n",
       "      <td>0</td>\n",
       "      <td>0</td>\n",
       "      <td>0</td>\n",
       "    </tr>\n",
       "    <tr>\n",
       "      <th>1538</th>\n",
       "      <td>50102</td>\n",
       "      <td>5550</td>\n",
       "      <td>6090</td>\n",
       "      <td>1</td>\n",
       "      <td>0</td>\n",
       "      <td>0</td>\n",
       "      <td>0</td>\n",
       "      <td>0</td>\n",
       "      <td>0</td>\n",
       "      <td>0</td>\n",
       "      <td>0</td>\n",
       "      <td>0</td>\n",
       "      <td>0</td>\n",
       "    </tr>\n",
       "  </tbody>\n",
       "</table>\n",
       "<p>1275 rows × 13 columns</p>\n",
       "</div>"
      ],
      "text/plain": [
       "      num_ratings  num_reviews  num_followers  fantasy  history  horror  \\\n",
       "1          367056        12879           6538        0        1       0   \n",
       "2          224620         6509           2354        0        1       0   \n",
       "3          613157        36644            642        0        1       0   \n",
       "5          214796         7910           9137        0        1       0   \n",
       "6          352894        14428            183        0        1       0   \n",
       "...           ...          ...            ...      ...      ...     ...   \n",
       "1534        83827         7203          11905        1        0       0   \n",
       "1535       775001        14252          22897        1        0       0   \n",
       "1536       310138        30388          30510        1        0       0   \n",
       "1537       337538        12435          66448        1        0       0   \n",
       "1538        50102         5550           6090        1        0       0   \n",
       "\n",
       "      psychology  romance  science  science_fiction  sports  thriller  travel  \n",
       "1              0        0        0                0       0         0       0  \n",
       "2              0        0        0                0       0         0       0  \n",
       "3              0        0        0                0       0         0       0  \n",
       "5              0        0        0                0       0         0       0  \n",
       "6              0        0        0                0       0         0       0  \n",
       "...          ...      ...      ...              ...     ...       ...     ...  \n",
       "1534           0        0        0                0       0         0       0  \n",
       "1535           0        0        0                0       0         0       0  \n",
       "1536           0        0        0                0       0         0       0  \n",
       "1537           0        0        0                0       0         0       0  \n",
       "1538           0        0        0                0       0         0       0  \n",
       "\n",
       "[1275 rows x 13 columns]"
      ]
     },
     "execution_count": 572,
     "metadata": {},
     "output_type": "execute_result"
    }
   ],
   "source": [
    "y = df2['rating']\n",
    "df2.drop(['title','rating','name','synopsis','genre'], axis=1, inplace=True)"
   ]
  },
  {
   "cell_type": "code",
   "execution_count": 573,
   "id": "735d2d0d",
   "metadata": {},
   "outputs": [],
   "source": [
    "X_train, X_test, y_train, y_test = train_test_split(df2, y, test_size = 0.25, random_state = 44)"
   ]
  },
  {
   "cell_type": "code",
   "execution_count": 575,
   "id": "9b535ca3",
   "metadata": {},
   "outputs": [
    {
     "data": {
      "text/html": [
       "<style>#sk-container-id-14 {color: black;background-color: white;}#sk-container-id-14 pre{padding: 0;}#sk-container-id-14 div.sk-toggleable {background-color: white;}#sk-container-id-14 label.sk-toggleable__label {cursor: pointer;display: block;width: 100%;margin-bottom: 0;padding: 0.3em;box-sizing: border-box;text-align: center;}#sk-container-id-14 label.sk-toggleable__label-arrow:before {content: \"▸\";float: left;margin-right: 0.25em;color: #696969;}#sk-container-id-14 label.sk-toggleable__label-arrow:hover:before {color: black;}#sk-container-id-14 div.sk-estimator:hover label.sk-toggleable__label-arrow:before {color: black;}#sk-container-id-14 div.sk-toggleable__content {max-height: 0;max-width: 0;overflow: hidden;text-align: left;background-color: #f0f8ff;}#sk-container-id-14 div.sk-toggleable__content pre {margin: 0.2em;color: black;border-radius: 0.25em;background-color: #f0f8ff;}#sk-container-id-14 input.sk-toggleable__control:checked~div.sk-toggleable__content {max-height: 200px;max-width: 100%;overflow: auto;}#sk-container-id-14 input.sk-toggleable__control:checked~label.sk-toggleable__label-arrow:before {content: \"▾\";}#sk-container-id-14 div.sk-estimator input.sk-toggleable__control:checked~label.sk-toggleable__label {background-color: #d4ebff;}#sk-container-id-14 div.sk-label input.sk-toggleable__control:checked~label.sk-toggleable__label {background-color: #d4ebff;}#sk-container-id-14 input.sk-hidden--visually {border: 0;clip: rect(1px 1px 1px 1px);clip: rect(1px, 1px, 1px, 1px);height: 1px;margin: -1px;overflow: hidden;padding: 0;position: absolute;width: 1px;}#sk-container-id-14 div.sk-estimator {font-family: monospace;background-color: #f0f8ff;border: 1px dotted black;border-radius: 0.25em;box-sizing: border-box;margin-bottom: 0.5em;}#sk-container-id-14 div.sk-estimator:hover {background-color: #d4ebff;}#sk-container-id-14 div.sk-parallel-item::after {content: \"\";width: 100%;border-bottom: 1px solid gray;flex-grow: 1;}#sk-container-id-14 div.sk-label:hover label.sk-toggleable__label {background-color: #d4ebff;}#sk-container-id-14 div.sk-serial::before {content: \"\";position: absolute;border-left: 1px solid gray;box-sizing: border-box;top: 0;bottom: 0;left: 50%;z-index: 0;}#sk-container-id-14 div.sk-serial {display: flex;flex-direction: column;align-items: center;background-color: white;padding-right: 0.2em;padding-left: 0.2em;position: relative;}#sk-container-id-14 div.sk-item {position: relative;z-index: 1;}#sk-container-id-14 div.sk-parallel {display: flex;align-items: stretch;justify-content: center;background-color: white;position: relative;}#sk-container-id-14 div.sk-item::before, #sk-container-id-14 div.sk-parallel-item::before {content: \"\";position: absolute;border-left: 1px solid gray;box-sizing: border-box;top: 0;bottom: 0;left: 50%;z-index: -1;}#sk-container-id-14 div.sk-parallel-item {display: flex;flex-direction: column;z-index: 1;position: relative;background-color: white;}#sk-container-id-14 div.sk-parallel-item:first-child::after {align-self: flex-end;width: 50%;}#sk-container-id-14 div.sk-parallel-item:last-child::after {align-self: flex-start;width: 50%;}#sk-container-id-14 div.sk-parallel-item:only-child::after {width: 0;}#sk-container-id-14 div.sk-dashed-wrapped {border: 1px dashed gray;margin: 0 0.4em 0.5em 0.4em;box-sizing: border-box;padding-bottom: 0.4em;background-color: white;}#sk-container-id-14 div.sk-label label {font-family: monospace;font-weight: bold;display: inline-block;line-height: 1.2em;}#sk-container-id-14 div.sk-label-container {text-align: center;}#sk-container-id-14 div.sk-container {/* jupyter's `normalize.less` sets `[hidden] { display: none; }` but bootstrap.min.css set `[hidden] { display: none !important; }` so we also need the `!important` here to be able to override the default hidden behavior on the sphinx rendered scikit-learn.org. See: https://github.com/scikit-learn/scikit-learn/issues/21755 */display: inline-block !important;position: relative;}#sk-container-id-14 div.sk-text-repr-fallback {display: none;}</style><div id=\"sk-container-id-14\" class=\"sk-top-container\"><div class=\"sk-text-repr-fallback\"><pre>LinearRegression()</pre><b>In a Jupyter environment, please rerun this cell to show the HTML representation or trust the notebook. <br />On GitHub, the HTML representation is unable to render, please try loading this page with nbviewer.org.</b></div><div class=\"sk-container\" hidden><div class=\"sk-item\"><div class=\"sk-estimator sk-toggleable\"><input class=\"sk-toggleable__control sk-hidden--visually\" id=\"sk-estimator-id-14\" type=\"checkbox\" checked><label for=\"sk-estimator-id-14\" class=\"sk-toggleable__label sk-toggleable__label-arrow\">LinearRegression</label><div class=\"sk-toggleable__content\"><pre>LinearRegression()</pre></div></div></div></div></div>"
      ],
      "text/plain": [
       "LinearRegression()"
      ]
     },
     "execution_count": 575,
     "metadata": {},
     "output_type": "execute_result"
    }
   ],
   "source": [
    "lr = LinearRegression()\n",
    "lr.fit(X_train, y_train)"
   ]
  },
  {
   "cell_type": "code",
   "execution_count": 576,
   "id": "c7e36b22",
   "metadata": {},
   "outputs": [],
   "source": [
    "predictions = lr.predict(X_test)"
   ]
  },
  {
   "cell_type": "code",
   "execution_count": 577,
   "id": "939af893",
   "metadata": {},
   "outputs": [
    {
     "data": {
      "text/html": [
       "<div>\n",
       "<style scoped>\n",
       "    .dataframe tbody tr th:only-of-type {\n",
       "        vertical-align: middle;\n",
       "    }\n",
       "\n",
       "    .dataframe tbody tr th {\n",
       "        vertical-align: top;\n",
       "    }\n",
       "\n",
       "    .dataframe thead th {\n",
       "        text-align: right;\n",
       "    }\n",
       "</style>\n",
       "<table border=\"1\" class=\"dataframe\">\n",
       "  <thead>\n",
       "    <tr style=\"text-align: right;\">\n",
       "      <th></th>\n",
       "      <th>Actual</th>\n",
       "      <th>Predicted</th>\n",
       "    </tr>\n",
       "  </thead>\n",
       "  <tbody>\n",
       "    <tr>\n",
       "      <th>0</th>\n",
       "      <td>4.17</td>\n",
       "      <td>4.249017</td>\n",
       "    </tr>\n",
       "    <tr>\n",
       "      <th>1</th>\n",
       "      <td>4.04</td>\n",
       "      <td>3.952359</td>\n",
       "    </tr>\n",
       "    <tr>\n",
       "      <th>2</th>\n",
       "      <td>4.00</td>\n",
       "      <td>4.151173</td>\n",
       "    </tr>\n",
       "    <tr>\n",
       "      <th>3</th>\n",
       "      <td>4.04</td>\n",
       "      <td>4.151320</td>\n",
       "    </tr>\n",
       "    <tr>\n",
       "      <th>4</th>\n",
       "      <td>3.84</td>\n",
       "      <td>4.001729</td>\n",
       "    </tr>\n",
       "    <tr>\n",
       "      <th>5</th>\n",
       "      <td>3.95</td>\n",
       "      <td>4.114061</td>\n",
       "    </tr>\n",
       "    <tr>\n",
       "      <th>6</th>\n",
       "      <td>3.88</td>\n",
       "      <td>4.123709</td>\n",
       "    </tr>\n",
       "    <tr>\n",
       "      <th>7</th>\n",
       "      <td>2.78</td>\n",
       "      <td>3.892245</td>\n",
       "    </tr>\n",
       "    <tr>\n",
       "      <th>8</th>\n",
       "      <td>4.15</td>\n",
       "      <td>3.920391</td>\n",
       "    </tr>\n",
       "    <tr>\n",
       "      <th>9</th>\n",
       "      <td>4.26</td>\n",
       "      <td>3.918914</td>\n",
       "    </tr>\n",
       "  </tbody>\n",
       "</table>\n",
       "</div>"
      ],
      "text/plain": [
       "   Actual  Predicted\n",
       "0    4.17   4.249017\n",
       "1    4.04   3.952359\n",
       "2    4.00   4.151173\n",
       "3    4.04   4.151320\n",
       "4    3.84   4.001729\n",
       "5    3.95   4.114061\n",
       "6    3.88   4.123709\n",
       "7    2.78   3.892245\n",
       "8    4.15   3.920391\n",
       "9    4.26   3.918914"
      ]
     },
     "execution_count": 577,
     "metadata": {},
     "output_type": "execute_result"
    }
   ],
   "source": [
    "pred = pd.DataFrame({'Actual': y_test.tolist(), 'Predicted': predictions.tolist()}).head(25)\n",
    "pred.head(10)"
   ]
  },
  {
   "cell_type": "code",
   "execution_count": 578,
   "id": "4e9343ef",
   "metadata": {},
   "outputs": [
    {
     "data": {
      "text/plain": [
       "<AxesSubplot: >"
      ]
     },
     "execution_count": 578,
     "metadata": {},
     "output_type": "execute_result"
    },
    {
     "data": {
      "image/png": "[encoded data removed]",
      "text/plain": [
       "<Figure size 1300x700 with 1 Axes>"
      ]
     },
     "metadata": {},
     "output_type": "display_data"
    }
   ],
   "source": [
    "pred.plot(kind='bar', figsize=(13, 7))"
   ]
  },
  {
   "cell_type": "code",
   "execution_count": 597,
   "id": "4343dd3e",
   "metadata": {},
   "outputs": [
    {
     "name": "stdout",
     "output_type": "stream",
     "text": [
      "MAE: 0.1529693779157134\n",
      "MSE: 0.04085601719829251\n",
      "RMSE: 0.2021287144328893\n",
      "R2_value: 0.17542059178705938\n"
     ]
    }
   ],
   "source": [
    "print('MAE:', metrics.mean_absolute_error(y_test, predictions))\n",
    "print('MSE:', metrics.mean_squared_error(y_test, predictions))\n",
    "print('RMSE:', np.sqrt(metrics.mean_squared_error(y_test, predictions)))\n",
    "print('R2_value:',metrics.r2_score(y_test, predictions))"
   ]
  },
  {
   "cell_type": "markdown",
   "id": "e969a70c",
   "metadata": {},
   "source": [
    "#### Using Random Forest"
   ]
  },
  {
   "cell_type": "code",
   "execution_count": 585,
   "id": "82a0e728",
   "metadata": {},
   "outputs": [
    {
     "data": {
      "text/html": [
       "<style>#sk-container-id-15 {color: black;background-color: white;}#sk-container-id-15 pre{padding: 0;}#sk-container-id-15 div.sk-toggleable {background-color: white;}#sk-container-id-15 label.sk-toggleable__label {cursor: pointer;display: block;width: 100%;margin-bottom: 0;padding: 0.3em;box-sizing: border-box;text-align: center;}#sk-container-id-15 label.sk-toggleable__label-arrow:before {content: \"▸\";float: left;margin-right: 0.25em;color: #696969;}#sk-container-id-15 label.sk-toggleable__label-arrow:hover:before {color: black;}#sk-container-id-15 div.sk-estimator:hover label.sk-toggleable__label-arrow:before {color: black;}#sk-container-id-15 div.sk-toggleable__content {max-height: 0;max-width: 0;overflow: hidden;text-align: left;background-color: #f0f8ff;}#sk-container-id-15 div.sk-toggleable__content pre {margin: 0.2em;color: black;border-radius: 0.25em;background-color: #f0f8ff;}#sk-container-id-15 input.sk-toggleable__control:checked~div.sk-toggleable__content {max-height: 200px;max-width: 100%;overflow: auto;}#sk-container-id-15 input.sk-toggleable__control:checked~label.sk-toggleable__label-arrow:before {content: \"▾\";}#sk-container-id-15 div.sk-estimator input.sk-toggleable__control:checked~label.sk-toggleable__label {background-color: #d4ebff;}#sk-container-id-15 div.sk-label input.sk-toggleable__control:checked~label.sk-toggleable__label {background-color: #d4ebff;}#sk-container-id-15 input.sk-hidden--visually {border: 0;clip: rect(1px 1px 1px 1px);clip: rect(1px, 1px, 1px, 1px);height: 1px;margin: -1px;overflow: hidden;padding: 0;position: absolute;width: 1px;}#sk-container-id-15 div.sk-estimator {font-family: monospace;background-color: #f0f8ff;border: 1px dotted black;border-radius: 0.25em;box-sizing: border-box;margin-bottom: 0.5em;}#sk-container-id-15 div.sk-estimator:hover {background-color: #d4ebff;}#sk-container-id-15 div.sk-parallel-item::after {content: \"\";width: 100%;border-bottom: 1px solid gray;flex-grow: 1;}#sk-container-id-15 div.sk-label:hover label.sk-toggleable__label {background-color: #d4ebff;}#sk-container-id-15 div.sk-serial::before {content: \"\";position: absolute;border-left: 1px solid gray;box-sizing: border-box;top: 0;bottom: 0;left: 50%;z-index: 0;}#sk-container-id-15 div.sk-serial {display: flex;flex-direction: column;align-items: center;background-color: white;padding-right: 0.2em;padding-left: 0.2em;position: relative;}#sk-container-id-15 div.sk-item {position: relative;z-index: 1;}#sk-container-id-15 div.sk-parallel {display: flex;align-items: stretch;justify-content: center;background-color: white;position: relative;}#sk-container-id-15 div.sk-item::before, #sk-container-id-15 div.sk-parallel-item::before {content: \"\";position: absolute;border-left: 1px solid gray;box-sizing: border-box;top: 0;bottom: 0;left: 50%;z-index: -1;}#sk-container-id-15 div.sk-parallel-item {display: flex;flex-direction: column;z-index: 1;position: relative;background-color: white;}#sk-container-id-15 div.sk-parallel-item:first-child::after {align-self: flex-end;width: 50%;}#sk-container-id-15 div.sk-parallel-item:last-child::after {align-self: flex-start;width: 50%;}#sk-container-id-15 div.sk-parallel-item:only-child::after {width: 0;}#sk-container-id-15 div.sk-dashed-wrapped {border: 1px dashed gray;margin: 0 0.4em 0.5em 0.4em;box-sizing: border-box;padding-bottom: 0.4em;background-color: white;}#sk-container-id-15 div.sk-label label {font-family: monospace;font-weight: bold;display: inline-block;line-height: 1.2em;}#sk-container-id-15 div.sk-label-container {text-align: center;}#sk-container-id-15 div.sk-container {/* jupyter's `normalize.less` sets `[hidden] { display: none; }` but bootstrap.min.css set `[hidden] { display: none !important; }` so we also need the `!important` here to be able to override the default hidden behavior on the sphinx rendered scikit-learn.org. See: https://github.com/scikit-learn/scikit-learn/issues/21755 */display: inline-block !important;position: relative;}#sk-container-id-15 div.sk-text-repr-fallback {display: none;}</style><div id=\"sk-container-id-15\" class=\"sk-top-container\"><div class=\"sk-text-repr-fallback\"><pre>RandomForestRegressor()</pre><b>In a Jupyter environment, please rerun this cell to show the HTML representation or trust the notebook. <br />On GitHub, the HTML representation is unable to render, please try loading this page with nbviewer.org.</b></div><div class=\"sk-container\" hidden><div class=\"sk-item\"><div class=\"sk-estimator sk-toggleable\"><input class=\"sk-toggleable__control sk-hidden--visually\" id=\"sk-estimator-id-15\" type=\"checkbox\" checked><label for=\"sk-estimator-id-15\" class=\"sk-toggleable__label sk-toggleable__label-arrow\">RandomForestRegressor</label><div class=\"sk-toggleable__content\"><pre>RandomForestRegressor()</pre></div></div></div></div></div>"
      ],
      "text/plain": [
       "RandomForestRegressor()"
      ]
     },
     "execution_count": 585,
     "metadata": {},
     "output_type": "execute_result"
    }
   ],
   "source": [
    "model = RandomForestRegressor()\n",
    "model.fit(X_train, y_train)"
   ]
  },
  {
   "cell_type": "code",
   "execution_count": 586,
   "id": "6b2f91da",
   "metadata": {},
   "outputs": [],
   "source": [
    "predictions_rf = model.predict(X_test)"
   ]
  },
  {
   "cell_type": "code",
   "execution_count": 596,
   "id": "0b3ec267",
   "metadata": {},
   "outputs": [
    {
     "name": "stdout",
     "output_type": "stream",
     "text": [
      "MAE: 0.14517398119122257\n",
      "MSE: 0.03668871332288401\n",
      "RMSE: 0.19154298035397696\n",
      "R2_value: 0.2595274920448615\n"
     ]
    }
   ],
   "source": [
    "print('MAE:', metrics.mean_absolute_error(y_test, predictions_rf))\n",
    "print('MSE:', metrics.mean_squared_error(y_test, predictions_rf))\n",
    "print('RMSE:', np.sqrt(metrics.mean_squared_error(y_test, predictions_rf)))\n",
    "print('R2_value:',metrics.r2_score(y_test, predictions_rf))"
   ]
  },
  {
   "cell_type": "code",
   "execution_count": 588,
   "id": "f592136b",
   "metadata": {},
   "outputs": [
    {
     "data": {
      "text/html": [
       "<div>\n",
       "<style scoped>\n",
       "    .dataframe tbody tr th:only-of-type {\n",
       "        vertical-align: middle;\n",
       "    }\n",
       "\n",
       "    .dataframe tbody tr th {\n",
       "        vertical-align: top;\n",
       "    }\n",
       "\n",
       "    .dataframe thead th {\n",
       "        text-align: right;\n",
       "    }\n",
       "</style>\n",
       "<table border=\"1\" class=\"dataframe\">\n",
       "  <thead>\n",
       "    <tr style=\"text-align: right;\">\n",
       "      <th></th>\n",
       "      <th>Actual</th>\n",
       "      <th>Predicted</th>\n",
       "    </tr>\n",
       "  </thead>\n",
       "  <tbody>\n",
       "    <tr>\n",
       "      <th>0</th>\n",
       "      <td>4.17</td>\n",
       "      <td>4.1120</td>\n",
       "    </tr>\n",
       "    <tr>\n",
       "      <th>1</th>\n",
       "      <td>4.04</td>\n",
       "      <td>3.8358</td>\n",
       "    </tr>\n",
       "    <tr>\n",
       "      <th>2</th>\n",
       "      <td>4.00</td>\n",
       "      <td>4.1811</td>\n",
       "    </tr>\n",
       "    <tr>\n",
       "      <th>3</th>\n",
       "      <td>4.04</td>\n",
       "      <td>4.1901</td>\n",
       "    </tr>\n",
       "    <tr>\n",
       "      <th>4</th>\n",
       "      <td>3.84</td>\n",
       "      <td>3.8899</td>\n",
       "    </tr>\n",
       "    <tr>\n",
       "      <th>5</th>\n",
       "      <td>3.95</td>\n",
       "      <td>4.0421</td>\n",
       "    </tr>\n",
       "    <tr>\n",
       "      <th>6</th>\n",
       "      <td>3.88</td>\n",
       "      <td>4.1674</td>\n",
       "    </tr>\n",
       "    <tr>\n",
       "      <th>7</th>\n",
       "      <td>2.78</td>\n",
       "      <td>3.7635</td>\n",
       "    </tr>\n",
       "    <tr>\n",
       "      <th>8</th>\n",
       "      <td>4.15</td>\n",
       "      <td>4.1277</td>\n",
       "    </tr>\n",
       "    <tr>\n",
       "      <th>9</th>\n",
       "      <td>4.26</td>\n",
       "      <td>4.1906</td>\n",
       "    </tr>\n",
       "  </tbody>\n",
       "</table>\n",
       "</div>"
      ],
      "text/plain": [
       "   Actual  Predicted\n",
       "0    4.17     4.1120\n",
       "1    4.04     3.8358\n",
       "2    4.00     4.1811\n",
       "3    4.04     4.1901\n",
       "4    3.84     3.8899\n",
       "5    3.95     4.0421\n",
       "6    3.88     4.1674\n",
       "7    2.78     3.7635\n",
       "8    4.15     4.1277\n",
       "9    4.26     4.1906"
      ]
     },
     "execution_count": 588,
     "metadata": {},
     "output_type": "execute_result"
    }
   ],
   "source": [
    "pred = pd.DataFrame({'Actual': y_test.tolist(), 'Predicted': predictions_rf.tolist()}).head(25)\n",
    "pred.head(10)"
   ]
  },
  {
   "cell_type": "code",
   "execution_count": 589,
   "id": "7e1f53d7",
   "metadata": {},
   "outputs": [
    {
     "data": {
      "text/plain": [
       "<AxesSubplot: >"
      ]
     },
     "execution_count": 589,
     "metadata": {},
     "output_type": "execute_result"
    },
    {
     "data": {
      "image/png": "[encoded data removed]",
      "text/plain": [
       "<Figure size 1300x700 with 1 Axes>"
      ]
     },
     "metadata": {},
     "output_type": "display_data"
    }
   ],
   "source": [
    "pred.plot(kind='bar', figsize=(13, 7))"
   ]
  },
  {
   "cell_type": "markdown",
   "id": "477e4ef2",
   "metadata": {},
   "source": [
    "#### Random forest worked little bit better than linear regression"
   ]
  }
 ],
 "metadata": {
  "kernelspec": {
   "display_name": "Python 3 (ipykernel)",
   "language": "python",
   "name": "python3"
  },
  "language_info": {
   "codemirror_mode": {
    "name": "ipython",
    "version": 3
   },
   "file_extension": ".py",
   "mimetype": "text/x-python",
   "name": "python",
   "nbconvert_exporter": "python",
   "pygments_lexer": "ipython3",
   "version": "3.10.8"
  }
 },
 "nbformat": 4,
 "nbformat_minor": 5
}
